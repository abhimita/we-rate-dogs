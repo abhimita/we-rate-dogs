{
 "cells": [
  {
   "cell_type": "markdown",
   "metadata": {},
   "source": [
    "# Data Wrangling"
   ]
  },
  {
   "cell_type": "markdown",
   "metadata": {},
   "source": [
    "## Data Gathering\n",
    "\n",
    "This is the first step of collecting data from different sources. For this project there are three data sources. These are: \n",
    "\n",
    "<ol>\n",
    "    <li>Twitter archive of tweets from WeRateDogs Twitter handle. Tweets have been analyzed and enhanced. The enhanced archive is available <a href=\"https://d17h27t6h515a5.cloudfront.net/topher/2017/August/59a4e958_twitter-archive-enhanced/twitter-archive-enhanced.csv\">here</a></li>\n",
    "    <li>Every dog image of WeRateDogs Twitter archive has been analyzed through a neural network that can classify breeds of dogs. That image prediction file is available <a href=\"https://s3.amazonaws.com/video.udacity-data.com/topher/2018/November/5bf60c69_image-predictions-3/image-predictions-3.tsv\">here</a></li>\n",
    "    <li>Finally each tweet's retweet count and link count are metrics of interest. That data is retrieved using Twitter's API\n",
    "</ol>\n",
    "        \n"
   ]
  },
  {
   "cell_type": "code",
   "execution_count": 1,
   "metadata": {},
   "outputs": [],
   "source": [
    "import requests\n",
    "import os\n",
    "import re\n",
    "import json\n",
    "import time\n",
    "import numpy as np\n",
    "import pandas as pd\n",
    "import matplotlib.pyplot as plt\n",
    "import seaborn as sns\n",
    "%matplotlib inline"
   ]
  },
  {
   "cell_type": "code",
   "execution_count": 2,
   "metadata": {},
   "outputs": [
    {
     "name": "stdout",
     "output_type": "stream",
     "text": [
      "Successfully created the directory: data \n"
     ]
    }
   ],
   "source": [
    "data_dir = \"data\"\n",
    "# Creates the directory to store data files if it does not exist\n",
    "\n",
    "if not os.path.exists(data_dir):\n",
    "    try:\n",
    "        os.mkdir(data_dir)\n",
    "    except OSError:\n",
    "        print (\"Creation of the directory: %s failed\" % data_dir)\n",
    "    else:\n",
    "        print (\"Successfully created the directory: %s \" % data_dir)\n",
    "else:\n",
    "    print(\"Directory: %s already exists\" % data_dir)\n"
   ]
  },
  {
   "cell_type": "markdown",
   "metadata": {},
   "source": [
    "For the first two data sources I use Python's `request` object and related API to download the file. As this process is similar for first two data sources, I refactor common code into Python functions."
   ]
  },
  {
   "cell_type": "code",
   "execution_count": 3,
   "metadata": {},
   "outputs": [],
   "source": [
    "'''\n",
    "Parses URL to get the last component from URL string and returns a tuple containing\n",
    "1. File name without extension\n",
    "2. File extension\n",
    "'''\n",
    "def parse_file_name(url):\n",
    "    file_name, file_ext = url.split(\"/\")[-1].split(\".\")\n",
    "    return (file_name, file_ext)\n",
    "\n"
   ]
  },
  {
   "cell_type": "code",
   "execution_count": 4,
   "metadata": {},
   "outputs": [],
   "source": [
    "'''\n",
    "Downloads file from given url location\n",
    "After download it stores downloaded data into a delimted file and stores it in data_dir\n",
    "Delimiter character can be passed in a parameter\n",
    "'''\n",
    "def download_file(url, data_dir, input_field_sep=',', output_field_sep=None):\n",
    "    r = requests.get(url)\n",
    "    if r.status_code != 200: # Failure to download file\n",
    "        print(\"File download from %s fails with status code: %d\" % (url, r.status_code))\n",
    "    else:\n",
    "\n",
    "        input_file_name, input_file_ext = parse_file_name(url)\n",
    "        output_file_name = input_file_name\n",
    "        \n",
    "        # Output file extension is named based on ouput field separator\n",
    "        # If no separator is specified then input file extension is used for output as well\n",
    "        # For comma output file extension is csv\n",
    "        # For tab output file extension is tsv\n",
    "        # Otherwise output file extension is txt\n",
    "        if output_field_sep is None:\n",
    "            output_file_ext = input_file_ext\n",
    "        elif output_field_sep == ',':\n",
    "            output_file_ext = 'csv'\n",
    "        elif output_field_sep == '\\t':\n",
    "            output_file_ext = 'tsv'\n",
    "        else:\n",
    "            output_file_ext = 'txt'\n",
    "            \n",
    "        \n",
    "        print(\"Downloading file: %s\" % url.split(\"/\")[-1])\n",
    "        with open(\"{data_dir}/{output_file_name}.{output_file_ext}\"\\\n",
    "              .format(data_dir=data_dir, output_file_name=output_file_name, output_file_ext=output_file_ext), \"w\") as fp:\n",
    "            for line in r.text.split('\\n'):\n",
    "                # If output field separator is None then use the same separator as input data \n",
    "                if output_field_sep is None:\n",
    "                    delimited_line = line\n",
    "                else:\n",
    "                    delimited_line = line.replace(input_field_sep, output_field_sep)\n",
    "                fp.write(delimited_line + '\\n') \n",
    "                \n",
    "        print(\"Completed downloading file: %s.%s\" % (output_file_name, output_file_ext))\n",
    "        "
   ]
  },
  {
   "cell_type": "markdown",
   "metadata": {},
   "source": [
    "## Dowloading image predictions file"
   ]
  },
  {
   "cell_type": "code",
   "execution_count": 5,
   "metadata": {},
   "outputs": [
    {
     "name": "stdout",
     "output_type": "stream",
     "text": [
      "Downloading file: image-predictions-3.tsv\n",
      "Completed downloading file: image-predictions-3.csv\n"
     ]
    }
   ],
   "source": [
    "prediction_url = \"https://s3.amazonaws.com/video.udacity-data.com/topher/2018/November/5bf60c69_image-predictions-3/image-predictions-3.tsv\"\n",
    "# In input record, fields are tab separated. It is converted to csv file so all dataframes can be read uniformly\n",
    "download_file(prediction_url, data_dir, input_field_sep='\\t', output_field_sep=',')\n",
    "\n"
   ]
  },
  {
   "cell_type": "code",
   "execution_count": 6,
   "metadata": {},
   "outputs": [],
   "source": [
    "# Load prediction data into a dataframe\n",
    "prediction_df = pd.read_csv('data/image-predictions-3.csv')"
   ]
  },
  {
   "cell_type": "markdown",
   "metadata": {},
   "source": [
    "## Downloading enhanced twitter archive"
   ]
  },
  {
   "cell_type": "code",
   "execution_count": 7,
   "metadata": {},
   "outputs": [
    {
     "name": "stdout",
     "output_type": "stream",
     "text": [
      "Downloading file: twitter-archive-enhanced.csv\n",
      "Completed downloading file: twitter-archive-enhanced.csv\n"
     ]
    }
   ],
   "source": [
    "\n",
    "twitter_archive_url = \"https://d17h27t6h515a5.cloudfront.net/topher/2017/August/59a4e958_twitter-archive-enhanced/twitter-archive-enhanced.csv\"\n",
    "# Data is already comma delimited. So there is no need to do any transformation\n",
    "download_file(twitter_archive_url, data_dir) \n",
    "    "
   ]
  },
  {
   "cell_type": "markdown",
   "metadata": {},
   "source": [
    "## Downloading retweet data using twitter API\n"
   ]
  },
  {
   "cell_type": "code",
   "execution_count": 8,
   "metadata": {},
   "outputs": [],
   "source": [
    "import tweepy\n",
    "import configparser\n",
    "\n",
    "# Reading configuration file to get secret keys & tokens\n",
    "config = configparser.ConfigParser()\n",
    "config.read('tweeter_config.ini')\n",
    "config.sections()\n",
    "\n",
    "# Setting up - keys & access tokens\n",
    "consumer_key = config['TWITTER']['CONSUMER_KEY']\n",
    "consumer_secret = config['TWITTER']['CONSUMER_SECRET']\n",
    "access_token = config['TWITTER']['ACCESS_TOKEN']\n",
    "access_secret = config['TWITTER']['ACCESS_SECRET']"
   ]
  },
  {
   "cell_type": "code",
   "execution_count": 9,
   "metadata": {},
   "outputs": [],
   "source": [
    "\n",
    "auth = tweepy.OAuthHandler(consumer_key, consumer_secret)\n",
    "auth.set_access_token(access_token, access_secret)\n",
    "\n",
    "api = tweepy.API(auth, wait_on_rate_limit=True, wait_on_rate_limit_notify=True)"
   ]
  },
  {
   "cell_type": "markdown",
   "metadata": {},
   "source": [
    "Before I can use Twitter's API to download tweet data, I need to use pandas to read enhanced twitter archive so that I can use tweet IDs from that dataframe. "
   ]
  },
  {
   "cell_type": "code",
   "execution_count": 10,
   "metadata": {},
   "outputs": [
    {
     "data": {
      "text/html": [
       "<div>\n",
       "<style scoped>\n",
       "    .dataframe tbody tr th:only-of-type {\n",
       "        vertical-align: middle;\n",
       "    }\n",
       "\n",
       "    .dataframe tbody tr th {\n",
       "        vertical-align: top;\n",
       "    }\n",
       "\n",
       "    .dataframe thead th {\n",
       "        text-align: right;\n",
       "    }\n",
       "</style>\n",
       "<table border=\"1\" class=\"dataframe\">\n",
       "  <thead>\n",
       "    <tr style=\"text-align: right;\">\n",
       "      <th></th>\n",
       "      <th>tweet_id</th>\n",
       "      <th>in_reply_to_status_id</th>\n",
       "      <th>in_reply_to_user_id</th>\n",
       "      <th>timestamp</th>\n",
       "      <th>source</th>\n",
       "      <th>text</th>\n",
       "      <th>retweeted_status_id</th>\n",
       "      <th>retweeted_status_user_id</th>\n",
       "      <th>retweeted_status_timestamp</th>\n",
       "      <th>expanded_urls</th>\n",
       "      <th>rating_numerator</th>\n",
       "      <th>rating_denominator</th>\n",
       "      <th>name</th>\n",
       "      <th>doggo</th>\n",
       "      <th>floofer</th>\n",
       "      <th>pupper</th>\n",
       "      <th>puppo</th>\n",
       "    </tr>\n",
       "  </thead>\n",
       "  <tbody>\n",
       "    <tr>\n",
       "      <th>0</th>\n",
       "      <td>892420643555336193</td>\n",
       "      <td>NaN</td>\n",
       "      <td>NaN</td>\n",
       "      <td>2017-08-01 16:23:56 +0000</td>\n",
       "      <td>&lt;a href=\"http://twitter.com/download/iphone\" r...</td>\n",
       "      <td>This is Phineas. He's a mystical boy. Only eve...</td>\n",
       "      <td>NaN</td>\n",
       "      <td>NaN</td>\n",
       "      <td>NaN</td>\n",
       "      <td>https://twitter.com/dog_rates/status/892420643...</td>\n",
       "      <td>13</td>\n",
       "      <td>10</td>\n",
       "      <td>Phineas</td>\n",
       "      <td>None</td>\n",
       "      <td>None</td>\n",
       "      <td>None</td>\n",
       "      <td>None</td>\n",
       "    </tr>\n",
       "    <tr>\n",
       "      <th>1</th>\n",
       "      <td>892177421306343426</td>\n",
       "      <td>NaN</td>\n",
       "      <td>NaN</td>\n",
       "      <td>2017-08-01 00:17:27 +0000</td>\n",
       "      <td>&lt;a href=\"http://twitter.com/download/iphone\" r...</td>\n",
       "      <td>This is Tilly. She's just checking pup on you....</td>\n",
       "      <td>NaN</td>\n",
       "      <td>NaN</td>\n",
       "      <td>NaN</td>\n",
       "      <td>https://twitter.com/dog_rates/status/892177421...</td>\n",
       "      <td>13</td>\n",
       "      <td>10</td>\n",
       "      <td>Tilly</td>\n",
       "      <td>None</td>\n",
       "      <td>None</td>\n",
       "      <td>None</td>\n",
       "      <td>None</td>\n",
       "    </tr>\n",
       "    <tr>\n",
       "      <th>2</th>\n",
       "      <td>891815181378084864</td>\n",
       "      <td>NaN</td>\n",
       "      <td>NaN</td>\n",
       "      <td>2017-07-31 00:18:03 +0000</td>\n",
       "      <td>&lt;a href=\"http://twitter.com/download/iphone\" r...</td>\n",
       "      <td>This is Archie. He is a rare Norwegian Pouncin...</td>\n",
       "      <td>NaN</td>\n",
       "      <td>NaN</td>\n",
       "      <td>NaN</td>\n",
       "      <td>https://twitter.com/dog_rates/status/891815181...</td>\n",
       "      <td>12</td>\n",
       "      <td>10</td>\n",
       "      <td>Archie</td>\n",
       "      <td>None</td>\n",
       "      <td>None</td>\n",
       "      <td>None</td>\n",
       "      <td>None</td>\n",
       "    </tr>\n",
       "    <tr>\n",
       "      <th>3</th>\n",
       "      <td>891689557279858688</td>\n",
       "      <td>NaN</td>\n",
       "      <td>NaN</td>\n",
       "      <td>2017-07-30 15:58:51 +0000</td>\n",
       "      <td>&lt;a href=\"http://twitter.com/download/iphone\" r...</td>\n",
       "      <td>This is Darla. She commenced a snooze mid meal...</td>\n",
       "      <td>NaN</td>\n",
       "      <td>NaN</td>\n",
       "      <td>NaN</td>\n",
       "      <td>https://twitter.com/dog_rates/status/891689557...</td>\n",
       "      <td>13</td>\n",
       "      <td>10</td>\n",
       "      <td>Darla</td>\n",
       "      <td>None</td>\n",
       "      <td>None</td>\n",
       "      <td>None</td>\n",
       "      <td>None</td>\n",
       "    </tr>\n",
       "    <tr>\n",
       "      <th>4</th>\n",
       "      <td>891327558926688256</td>\n",
       "      <td>NaN</td>\n",
       "      <td>NaN</td>\n",
       "      <td>2017-07-29 16:00:24 +0000</td>\n",
       "      <td>&lt;a href=\"http://twitter.com/download/iphone\" r...</td>\n",
       "      <td>This is Franklin. He would like you to stop ca...</td>\n",
       "      <td>NaN</td>\n",
       "      <td>NaN</td>\n",
       "      <td>NaN</td>\n",
       "      <td>https://twitter.com/dog_rates/status/891327558...</td>\n",
       "      <td>12</td>\n",
       "      <td>10</td>\n",
       "      <td>Franklin</td>\n",
       "      <td>None</td>\n",
       "      <td>None</td>\n",
       "      <td>None</td>\n",
       "      <td>None</td>\n",
       "    </tr>\n",
       "  </tbody>\n",
       "</table>\n",
       "</div>"
      ],
      "text/plain": [
       "             tweet_id  in_reply_to_status_id  in_reply_to_user_id  \\\n",
       "0  892420643555336193                    NaN                  NaN   \n",
       "1  892177421306343426                    NaN                  NaN   \n",
       "2  891815181378084864                    NaN                  NaN   \n",
       "3  891689557279858688                    NaN                  NaN   \n",
       "4  891327558926688256                    NaN                  NaN   \n",
       "\n",
       "                   timestamp  \\\n",
       "0  2017-08-01 16:23:56 +0000   \n",
       "1  2017-08-01 00:17:27 +0000   \n",
       "2  2017-07-31 00:18:03 +0000   \n",
       "3  2017-07-30 15:58:51 +0000   \n",
       "4  2017-07-29 16:00:24 +0000   \n",
       "\n",
       "                                              source  \\\n",
       "0  <a href=\"http://twitter.com/download/iphone\" r...   \n",
       "1  <a href=\"http://twitter.com/download/iphone\" r...   \n",
       "2  <a href=\"http://twitter.com/download/iphone\" r...   \n",
       "3  <a href=\"http://twitter.com/download/iphone\" r...   \n",
       "4  <a href=\"http://twitter.com/download/iphone\" r...   \n",
       "\n",
       "                                                text  retweeted_status_id  \\\n",
       "0  This is Phineas. He's a mystical boy. Only eve...                  NaN   \n",
       "1  This is Tilly. She's just checking pup on you....                  NaN   \n",
       "2  This is Archie. He is a rare Norwegian Pouncin...                  NaN   \n",
       "3  This is Darla. She commenced a snooze mid meal...                  NaN   \n",
       "4  This is Franklin. He would like you to stop ca...                  NaN   \n",
       "\n",
       "   retweeted_status_user_id retweeted_status_timestamp  \\\n",
       "0                       NaN                        NaN   \n",
       "1                       NaN                        NaN   \n",
       "2                       NaN                        NaN   \n",
       "3                       NaN                        NaN   \n",
       "4                       NaN                        NaN   \n",
       "\n",
       "                                       expanded_urls  rating_numerator  \\\n",
       "0  https://twitter.com/dog_rates/status/892420643...                13   \n",
       "1  https://twitter.com/dog_rates/status/892177421...                13   \n",
       "2  https://twitter.com/dog_rates/status/891815181...                12   \n",
       "3  https://twitter.com/dog_rates/status/891689557...                13   \n",
       "4  https://twitter.com/dog_rates/status/891327558...                12   \n",
       "\n",
       "   rating_denominator      name doggo floofer pupper puppo  \n",
       "0                  10   Phineas  None    None   None  None  \n",
       "1                  10     Tilly  None    None   None  None  \n",
       "2                  10    Archie  None    None   None  None  \n",
       "3                  10     Darla  None    None   None  None  \n",
       "4                  10  Franklin  None    None   None  None  "
      ]
     },
     "execution_count": 10,
     "metadata": {},
     "output_type": "execute_result"
    }
   ],
   "source": [
    "# Load enhanced twitter archive in panda dataframe\n",
    "twitter_enhanced_df = pd.read_csv(\"%s/twitter-archive-enhanced.csv\" % data_dir)\n",
    "twitter_enhanced_df.head(5)\n"
   ]
  },
  {
   "cell_type": "code",
   "execution_count": 11,
   "metadata": {},
   "outputs": [],
   "source": [
    "'''\n",
    "Downloads Twitter data using API call\n",
    "'''\n",
    "def download_tweets(tweet_ids, data_dir, download_file_name, mode=\"w\"):\n",
    "    print(\"Requested data for %d tweets\" % len(tweet_ids))\n",
    "    with open(\"%s/%s\" % (data_dir, download_file_name), encoding='utf8', mode=mode) as fp:\n",
    "        tweets = api.statuses_lookup(tweet_ids)\n",
    "        print(\"Retrieved data for %d tweets\" % len(tweets))\n",
    "        for tweet in tweets:\n",
    "            # Parsing data source field to get the device name\n",
    "            # Hoping to do some analysis based on device type\n",
    "            soup = BeautifulSoup(tweet._json['source'], 'lxml')\n",
    "            tweet_json = json.dumps(\n",
    "                {'tweet_id' : int(tweet._json['id']),\n",
    "                 'source' : re.split(r'\\s+', soup.a.text)[-1].lower(), \n",
    "                 'retweet_count' : int(tweet._json['retweet_count']),\n",
    "                 'favorite_count' : int(tweet._json['favorite_count']),\n",
    "                 'followers_count' : int(tweet._json['user']['followers_count'])\n",
    "                })\n",
    "            fp.write(tweet_json + '\\n')"
   ]
  },
  {
   "cell_type": "code",
   "execution_count": 12,
   "metadata": {},
   "outputs": [
    {
     "name": "stdout",
     "output_type": "stream",
     "text": [
      "Total number of tweets: 2356\n",
      "Processing batch: 1\n",
      "Requested data for 100 tweets\n",
      "Retrieved data for 98 tweets\n",
      "Processing batch: 2\n",
      "Requested data for 100 tweets\n",
      "Retrieved data for 96 tweets\n",
      "Processing batch: 3\n",
      "Requested data for 100 tweets\n",
      "Retrieved data for 97 tweets\n",
      "Processing batch: 4\n",
      "Requested data for 100 tweets\n",
      "Retrieved data for 99 tweets\n",
      "Processing batch: 5\n",
      "Requested data for 100 tweets\n",
      "Retrieved data for 100 tweets\n",
      "Processing batch: 6\n",
      "Requested data for 100 tweets\n",
      "Retrieved data for 98 tweets\n",
      "Processing batch: 7\n",
      "Requested data for 100 tweets\n",
      "Retrieved data for 100 tweets\n",
      "Processing batch: 8\n",
      "Requested data for 100 tweets\n",
      "Retrieved data for 99 tweets\n",
      "Processing batch: 9\n",
      "Requested data for 100 tweets\n",
      "Retrieved data for 99 tweets\n",
      "Processing batch: 10\n",
      "Requested data for 100 tweets\n",
      "Retrieved data for 99 tweets\n",
      "Processing batch: 11\n",
      "Requested data for 100 tweets\n",
      "Retrieved data for 100 tweets\n",
      "Processing batch: 12\n",
      "Requested data for 100 tweets\n",
      "Retrieved data for 100 tweets\n",
      "Processing batch: 13\n",
      "Requested data for 100 tweets\n",
      "Retrieved data for 100 tweets\n",
      "Processing batch: 14\n",
      "Requested data for 100 tweets\n",
      "Retrieved data for 100 tweets\n",
      "Processing batch: 15\n",
      "Requested data for 100 tweets\n",
      "Retrieved data for 100 tweets\n",
      "Processing batch: 16\n",
      "Requested data for 100 tweets\n",
      "Retrieved data for 100 tweets\n",
      "Processing batch: 17\n",
      "Requested data for 100 tweets\n",
      "Retrieved data for 100 tweets\n",
      "Processing batch: 18\n",
      "Requested data for 100 tweets\n",
      "Retrieved data for 99 tweets\n",
      "Processing batch: 19\n",
      "Requested data for 100 tweets\n",
      "Retrieved data for 100 tweets\n",
      "Processing batch: 20\n",
      "Requested data for 100 tweets\n",
      "Retrieved data for 100 tweets\n",
      "Processing batch: 21\n",
      "Requested data for 100 tweets\n",
      "Retrieved data for 100 tweets\n",
      "Processing batch: 22\n",
      "Requested data for 100 tweets\n",
      "Retrieved data for 100 tweets\n",
      "Processing batch: 23\n",
      "Requested data for 100 tweets\n",
      "Retrieved data for 100 tweets\n",
      "Processing batch: 24\n",
      "Requested data for 56 tweets\n",
      "Retrieved data for 56 tweets\n"
     ]
    }
   ],
   "source": [
    "\n",
    "from bs4 import BeautifulSoup\n",
    "            \n",
    "tweet_count = twitter_enhanced_df['tweet_id'].count()\n",
    "print(\"Total number of tweets: %d\" % tweet_count)\n",
    "\n",
    "for batch_id, i in enumerate(range(0, tweet_count, 100)):\n",
    "    print(\"Processing batch: %d\" % (batch_id + 1))\n",
    "    if batch_id == 0: # First batch so overwrite any existing file\n",
    "        mode = \"w\"\n",
    "    else:\n",
    "        mode = \"a\" # For subsequent calls append data to file\n",
    "    download_tweets(\n",
    "        twitter_enhanced_df['tweet_id'][batch_id * 100 : (batch_id + 1) * 100].tolist(), \n",
    "        data_dir, \n",
    "        \"tweet_data.json\", \n",
    "        mode)\n"
   ]
  },
  {
   "cell_type": "markdown",
   "metadata": {},
   "source": [
    "A point to note that batching 100 tweet IDs and calling the API once for every batch of 100 tweet IDs makes is <b> huge</b> improvement to data gathering stage. Downloading 2500+ tweets can be completed in less than a minute. \n",
    "\n",
    "From the log above it is apparent that there are times when data of all tweet IDs are not available. These tweet IDs are collected and another attempt is made using missing tweet IDs to retrieve their data."
   ]
  },
  {
   "cell_type": "markdown",
   "metadata": {},
   "source": [
    "### Making a final attempt to retrieve the tweet IDs which didn't arrive during API calls"
   ]
  },
  {
   "cell_type": "code",
   "execution_count": 13,
   "metadata": {},
   "outputs": [
    {
     "name": "stdout",
     "output_type": "stream",
     "text": [
      "Requested data for 16 tweets\n",
      "Retrieved data for 0 tweets\n"
     ]
    }
   ],
   "source": [
    "# Get all tweet IDs from enhaced file\n",
    "tweet_data_df = pd.read_json(\"data/tweet_data.json\", lines=True)\n",
    "\n",
    "# Left outer join with data retrieved using twitter API calls\n",
    "df_combined = twitter_enhanced_df.merge(tweet_data_df, how='left', indicator=True, on='tweet_id')\n",
    "\n",
    "# Make a list of tweets which can not be retrieved using API call\n",
    "error_list = df_combined[df_combined['_merge'] == 'left_only']['tweet_id'].tolist()\n",
    "\n",
    "# Make another attempt\n",
    "download_tweets(\n",
    "    error_list, \n",
    "    data_dir, \n",
    "    \"tweet_data.json\", \n",
    "    \"a\")"
   ]
  },
  {
   "cell_type": "markdown",
   "metadata": {},
   "source": [
    "Above <b>16</b> tweets could not be retrieved even after making a separate attempt. Most probably those 16 tweets no longer exists. "
   ]
  },
  {
   "cell_type": "markdown",
   "metadata": {},
   "source": [
    "## Data Assessment"
   ]
  },
  {
   "cell_type": "markdown",
   "metadata": {},
   "source": [
    "### Visual Assessment\n",
    "\n",
    "I am going to use few pandas functions to do the initial visual assesment. The objective of my visual assessment is to understand the dataframes, how they are related, meaning of each field and also to note down any inconsistent or dirty data that can be identified by opening the file(s) in Google sheet or by running few Pandas dataframe functions. \n",
    "\n",
    "Tools used for this stage are \n",
    "<ul>\n",
    "    <li> Goggle sheet</li>\n",
    "    <li> Pandas dataframe functions like head, tail, info, value_counts, describe</li>\n",
    "</ul>\n",
    "\n",
    "None of the files are big. So opening them up using a spreadsheet program is a task that can be accomplished easily.\n",
    "    \n",
    "I have three dataframes\n",
    "<ol>\n",
    "    <li>twitter_enhanced_df: Enhanced twitter archive</li>\n",
    "    <li>tweet_data_df: Some metrics like retweet count , favorite count about every tweet</li>\n",
    "    <li>prediction_df: classification of dogs by tweet ID using neural network</li>\n",
    "</ol>"
   ]
  },
  {
   "cell_type": "code",
   "execution_count": 14,
   "metadata": {},
   "outputs": [
    {
     "data": {
      "text/html": [
       "<div>\n",
       "<style scoped>\n",
       "    .dataframe tbody tr th:only-of-type {\n",
       "        vertical-align: middle;\n",
       "    }\n",
       "\n",
       "    .dataframe tbody tr th {\n",
       "        vertical-align: top;\n",
       "    }\n",
       "\n",
       "    .dataframe thead th {\n",
       "        text-align: right;\n",
       "    }\n",
       "</style>\n",
       "<table border=\"1\" class=\"dataframe\">\n",
       "  <thead>\n",
       "    <tr style=\"text-align: right;\">\n",
       "      <th></th>\n",
       "      <th>tweet_id</th>\n",
       "      <th>jpg_url</th>\n",
       "      <th>img_num</th>\n",
       "      <th>p1</th>\n",
       "      <th>p1_conf</th>\n",
       "      <th>p1_dog</th>\n",
       "      <th>p2</th>\n",
       "      <th>p2_conf</th>\n",
       "      <th>p2_dog</th>\n",
       "      <th>p3</th>\n",
       "      <th>p3_conf</th>\n",
       "      <th>p3_dog</th>\n",
       "    </tr>\n",
       "  </thead>\n",
       "  <tbody>\n",
       "    <tr>\n",
       "      <th>0</th>\n",
       "      <td>666020888022790149</td>\n",
       "      <td>https://pbs.twimg.com/media/CT4udn0WwAA0aMy.jpg</td>\n",
       "      <td>1</td>\n",
       "      <td>Welsh_springer_spaniel</td>\n",
       "      <td>0.465074</td>\n",
       "      <td>True</td>\n",
       "      <td>collie</td>\n",
       "      <td>0.156665</td>\n",
       "      <td>True</td>\n",
       "      <td>Shetland_sheepdog</td>\n",
       "      <td>0.061428</td>\n",
       "      <td>True</td>\n",
       "    </tr>\n",
       "    <tr>\n",
       "      <th>1</th>\n",
       "      <td>666029285002620928</td>\n",
       "      <td>https://pbs.twimg.com/media/CT42GRgUYAA5iDo.jpg</td>\n",
       "      <td>1</td>\n",
       "      <td>redbone</td>\n",
       "      <td>0.506826</td>\n",
       "      <td>True</td>\n",
       "      <td>miniature_pinscher</td>\n",
       "      <td>0.074192</td>\n",
       "      <td>True</td>\n",
       "      <td>Rhodesian_ridgeback</td>\n",
       "      <td>0.072010</td>\n",
       "      <td>True</td>\n",
       "    </tr>\n",
       "    <tr>\n",
       "      <th>2</th>\n",
       "      <td>666033412701032449</td>\n",
       "      <td>https://pbs.twimg.com/media/CT4521TWwAEvMyu.jpg</td>\n",
       "      <td>1</td>\n",
       "      <td>German_shepherd</td>\n",
       "      <td>0.596461</td>\n",
       "      <td>True</td>\n",
       "      <td>malinois</td>\n",
       "      <td>0.138584</td>\n",
       "      <td>True</td>\n",
       "      <td>bloodhound</td>\n",
       "      <td>0.116197</td>\n",
       "      <td>True</td>\n",
       "    </tr>\n",
       "    <tr>\n",
       "      <th>3</th>\n",
       "      <td>666044226329800704</td>\n",
       "      <td>https://pbs.twimg.com/media/CT5Dr8HUEAA-lEu.jpg</td>\n",
       "      <td>1</td>\n",
       "      <td>Rhodesian_ridgeback</td>\n",
       "      <td>0.408143</td>\n",
       "      <td>True</td>\n",
       "      <td>redbone</td>\n",
       "      <td>0.360687</td>\n",
       "      <td>True</td>\n",
       "      <td>miniature_pinscher</td>\n",
       "      <td>0.222752</td>\n",
       "      <td>True</td>\n",
       "    </tr>\n",
       "    <tr>\n",
       "      <th>4</th>\n",
       "      <td>666049248165822465</td>\n",
       "      <td>https://pbs.twimg.com/media/CT5IQmsXIAAKY4A.jpg</td>\n",
       "      <td>1</td>\n",
       "      <td>miniature_pinscher</td>\n",
       "      <td>0.560311</td>\n",
       "      <td>True</td>\n",
       "      <td>Rottweiler</td>\n",
       "      <td>0.243682</td>\n",
       "      <td>True</td>\n",
       "      <td>Doberman</td>\n",
       "      <td>0.154629</td>\n",
       "      <td>True</td>\n",
       "    </tr>\n",
       "  </tbody>\n",
       "</table>\n",
       "</div>"
      ],
      "text/plain": [
       "             tweet_id                                          jpg_url  \\\n",
       "0  666020888022790149  https://pbs.twimg.com/media/CT4udn0WwAA0aMy.jpg   \n",
       "1  666029285002620928  https://pbs.twimg.com/media/CT42GRgUYAA5iDo.jpg   \n",
       "2  666033412701032449  https://pbs.twimg.com/media/CT4521TWwAEvMyu.jpg   \n",
       "3  666044226329800704  https://pbs.twimg.com/media/CT5Dr8HUEAA-lEu.jpg   \n",
       "4  666049248165822465  https://pbs.twimg.com/media/CT5IQmsXIAAKY4A.jpg   \n",
       "\n",
       "   img_num                      p1   p1_conf  p1_dog                  p2  \\\n",
       "0        1  Welsh_springer_spaniel  0.465074    True              collie   \n",
       "1        1                 redbone  0.506826    True  miniature_pinscher   \n",
       "2        1         German_shepherd  0.596461    True            malinois   \n",
       "3        1     Rhodesian_ridgeback  0.408143    True             redbone   \n",
       "4        1      miniature_pinscher  0.560311    True          Rottweiler   \n",
       "\n",
       "    p2_conf  p2_dog                   p3   p3_conf  p3_dog  \n",
       "0  0.156665    True    Shetland_sheepdog  0.061428    True  \n",
       "1  0.074192    True  Rhodesian_ridgeback  0.072010    True  \n",
       "2  0.138584    True           bloodhound  0.116197    True  \n",
       "3  0.360687    True   miniature_pinscher  0.222752    True  \n",
       "4  0.243682    True             Doberman  0.154629    True  "
      ]
     },
     "execution_count": 14,
     "metadata": {},
     "output_type": "execute_result"
    }
   ],
   "source": [
    "prediction_df.head()"
   ]
  },
  {
   "cell_type": "code",
   "execution_count": 15,
   "metadata": {},
   "outputs": [
    {
     "name": "stdout",
     "output_type": "stream",
     "text": [
      "<class 'pandas.core.frame.DataFrame'>\n",
      "RangeIndex: 2075 entries, 0 to 2074\n",
      "Data columns (total 12 columns):\n",
      "tweet_id    2075 non-null int64\n",
      "jpg_url     2075 non-null object\n",
      "img_num     2075 non-null int64\n",
      "p1          2075 non-null object\n",
      "p1_conf     2075 non-null float64\n",
      "p1_dog      2075 non-null bool\n",
      "p2          2075 non-null object\n",
      "p2_conf     2075 non-null float64\n",
      "p2_dog      2075 non-null bool\n",
      "p3          2075 non-null object\n",
      "p3_conf     2075 non-null float64\n",
      "p3_dog      2075 non-null bool\n",
      "dtypes: bool(3), float64(3), int64(2), object(4)\n",
      "memory usage: 152.1+ KB\n"
     ]
    }
   ],
   "source": [
    "prediction_df.info()"
   ]
  },
  {
   "cell_type": "markdown",
   "metadata": {},
   "source": [
    "`prediction_df` columns:\n",
    "- **tweet_id**: the unique identifier for each tweet\n",
    "- **jpg_url**: URL of the iamge of the dog\n",
    "- **img_nume**: Image number\n",
    "- **p1**: algorithm's #1 classification of the dog\n",
    "- **p1_conf**: confidence factor for the above classification\n",
    "- **p1_dog**: whether or not the #1 prediction is a breed of dog\n",
    "- **p2**: algorithm's #2 classification of the dog\n",
    "- **p2_conf**: confidence factor for the above classification\n",
    "- **p2_dog**: whether or not the #2 prediction is a breed of dog\n",
    "- **p3**: algorithm's #3 classification of the dog\n",
    "- **p3_conf**: confidence factor for the above classification\n",
    "- **p3_dog**: whether or not the #3 prediction is a breed of dog\n"
   ]
  },
  {
   "cell_type": "code",
   "execution_count": 16,
   "metadata": {},
   "outputs": [
    {
     "data": {
      "text/html": [
       "<div>\n",
       "<style scoped>\n",
       "    .dataframe tbody tr th:only-of-type {\n",
       "        vertical-align: middle;\n",
       "    }\n",
       "\n",
       "    .dataframe tbody tr th {\n",
       "        vertical-align: top;\n",
       "    }\n",
       "\n",
       "    .dataframe thead th {\n",
       "        text-align: right;\n",
       "    }\n",
       "</style>\n",
       "<table border=\"1\" class=\"dataframe\">\n",
       "  <thead>\n",
       "    <tr style=\"text-align: right;\">\n",
       "      <th></th>\n",
       "      <th>tweet_id</th>\n",
       "      <th>jpg_url</th>\n",
       "      <th>img_num</th>\n",
       "      <th>p1</th>\n",
       "      <th>p1_conf</th>\n",
       "      <th>p1_dog</th>\n",
       "      <th>p2</th>\n",
       "      <th>p2_conf</th>\n",
       "      <th>p2_dog</th>\n",
       "      <th>p3</th>\n",
       "      <th>p3_conf</th>\n",
       "      <th>p3_dog</th>\n",
       "    </tr>\n",
       "  </thead>\n",
       "  <tbody>\n",
       "    <tr>\n",
       "      <th>888</th>\n",
       "      <td>699079609774645248</td>\n",
       "      <td>https://pbs.twimg.com/media/CbOhMUDXIAACIWR.jpg</td>\n",
       "      <td>3</td>\n",
       "      <td>schipperke</td>\n",
       "      <td>0.667324</td>\n",
       "      <td>True</td>\n",
       "      <td>Chesapeake_Bay_retriever</td>\n",
       "      <td>0.119550</td>\n",
       "      <td>True</td>\n",
       "      <td>kelpie</td>\n",
       "      <td>0.097600</td>\n",
       "      <td>True</td>\n",
       "    </tr>\n",
       "    <tr>\n",
       "      <th>824</th>\n",
       "      <td>693231807727280129</td>\n",
       "      <td>https://pbs.twimg.com/media/CZ7aplIUsAAq-8s.jpg</td>\n",
       "      <td>1</td>\n",
       "      <td>vizsla</td>\n",
       "      <td>0.876413</td>\n",
       "      <td>True</td>\n",
       "      <td>Chesapeake_Bay_retriever</td>\n",
       "      <td>0.078400</td>\n",
       "      <td>True</td>\n",
       "      <td>Rhodesian_ridgeback</td>\n",
       "      <td>0.032194</td>\n",
       "      <td>True</td>\n",
       "    </tr>\n",
       "    <tr>\n",
       "      <th>1753</th>\n",
       "      <td>824663926340194305</td>\n",
       "      <td>https://pbs.twimg.com/media/C3HLd0HXUAAUI2b.jpg</td>\n",
       "      <td>1</td>\n",
       "      <td>English_setter</td>\n",
       "      <td>0.526488</td>\n",
       "      <td>True</td>\n",
       "      <td>golden_retriever</td>\n",
       "      <td>0.402815</td>\n",
       "      <td>True</td>\n",
       "      <td>Irish_setter</td>\n",
       "      <td>0.034418</td>\n",
       "      <td>True</td>\n",
       "    </tr>\n",
       "    <tr>\n",
       "      <th>700</th>\n",
       "      <td>684800227459624960</td>\n",
       "      <td>https://pbs.twimg.com/media/CYDmK7ZVAAI_ylL.jpg</td>\n",
       "      <td>1</td>\n",
       "      <td>miniature_schnauzer</td>\n",
       "      <td>0.294457</td>\n",
       "      <td>True</td>\n",
       "      <td>Norfolk_terrier</td>\n",
       "      <td>0.161885</td>\n",
       "      <td>True</td>\n",
       "      <td>West_Highland_white_terrier</td>\n",
       "      <td>0.120992</td>\n",
       "      <td>True</td>\n",
       "    </tr>\n",
       "    <tr>\n",
       "      <th>306</th>\n",
       "      <td>671528761649688577</td>\n",
       "      <td>https://pbs.twimg.com/media/CVG_2I-WIAASKSS.jpg</td>\n",
       "      <td>1</td>\n",
       "      <td>Doberman</td>\n",
       "      <td>0.782626</td>\n",
       "      <td>True</td>\n",
       "      <td>black-and-tan_coonhound</td>\n",
       "      <td>0.109678</td>\n",
       "      <td>True</td>\n",
       "      <td>Gordon_setter</td>\n",
       "      <td>0.052110</td>\n",
       "      <td>True</td>\n",
       "    </tr>\n",
       "  </tbody>\n",
       "</table>\n",
       "</div>"
      ],
      "text/plain": [
       "                tweet_id                                          jpg_url  \\\n",
       "888   699079609774645248  https://pbs.twimg.com/media/CbOhMUDXIAACIWR.jpg   \n",
       "824   693231807727280129  https://pbs.twimg.com/media/CZ7aplIUsAAq-8s.jpg   \n",
       "1753  824663926340194305  https://pbs.twimg.com/media/C3HLd0HXUAAUI2b.jpg   \n",
       "700   684800227459624960  https://pbs.twimg.com/media/CYDmK7ZVAAI_ylL.jpg   \n",
       "306   671528761649688577  https://pbs.twimg.com/media/CVG_2I-WIAASKSS.jpg   \n",
       "\n",
       "      img_num                   p1   p1_conf  p1_dog  \\\n",
       "888         3           schipperke  0.667324    True   \n",
       "824         1               vizsla  0.876413    True   \n",
       "1753        1       English_setter  0.526488    True   \n",
       "700         1  miniature_schnauzer  0.294457    True   \n",
       "306         1             Doberman  0.782626    True   \n",
       "\n",
       "                            p2   p2_conf  p2_dog                           p3  \\\n",
       "888   Chesapeake_Bay_retriever  0.119550    True                       kelpie   \n",
       "824   Chesapeake_Bay_retriever  0.078400    True          Rhodesian_ridgeback   \n",
       "1753          golden_retriever  0.402815    True                 Irish_setter   \n",
       "700            Norfolk_terrier  0.161885    True  West_Highland_white_terrier   \n",
       "306    black-and-tan_coonhound  0.109678    True                Gordon_setter   \n",
       "\n",
       "       p3_conf  p3_dog  \n",
       "888   0.097600    True  \n",
       "824   0.032194    True  \n",
       "1753  0.034418    True  \n",
       "700   0.120992    True  \n",
       "306   0.052110    True  "
      ]
     },
     "execution_count": 16,
     "metadata": {},
     "output_type": "execute_result"
    }
   ],
   "source": [
    "prediction_df.sample(5)"
   ]
  },
  {
   "cell_type": "code",
   "execution_count": 17,
   "metadata": {},
   "outputs": [
    {
     "data": {
      "text/plain": [
       "True     1532\n",
       "False     543\n",
       "Name: p1_dog, dtype: int64"
      ]
     },
     "execution_count": 17,
     "metadata": {},
     "output_type": "execute_result"
    }
   ],
   "source": [
    "prediction_df.p1_dog.value_counts()"
   ]
  },
  {
   "cell_type": "code",
   "execution_count": 18,
   "metadata": {},
   "outputs": [
    {
     "data": {
      "text/html": [
       "<div>\n",
       "<style scoped>\n",
       "    .dataframe tbody tr th:only-of-type {\n",
       "        vertical-align: middle;\n",
       "    }\n",
       "\n",
       "    .dataframe tbody tr th {\n",
       "        vertical-align: top;\n",
       "    }\n",
       "\n",
       "    .dataframe thead th {\n",
       "        text-align: right;\n",
       "    }\n",
       "</style>\n",
       "<table border=\"1\" class=\"dataframe\">\n",
       "  <thead>\n",
       "    <tr style=\"text-align: right;\">\n",
       "      <th></th>\n",
       "      <th>tweet_id</th>\n",
       "      <th>jpg_url</th>\n",
       "      <th>img_num</th>\n",
       "      <th>p1</th>\n",
       "      <th>p1_conf</th>\n",
       "      <th>p1_dog</th>\n",
       "      <th>p2</th>\n",
       "      <th>p2_conf</th>\n",
       "      <th>p2_dog</th>\n",
       "      <th>p3</th>\n",
       "      <th>p3_conf</th>\n",
       "      <th>p3_dog</th>\n",
       "    </tr>\n",
       "  </thead>\n",
       "  <tbody>\n",
       "    <tr>\n",
       "      <th>6</th>\n",
       "      <td>666051853826850816</td>\n",
       "      <td>https://pbs.twimg.com/media/CT5KoJ1WoAAJash.jpg</td>\n",
       "      <td>1</td>\n",
       "      <td>box_turtle</td>\n",
       "      <td>0.933012</td>\n",
       "      <td>False</td>\n",
       "      <td>mud_turtle</td>\n",
       "      <td>0.045885</td>\n",
       "      <td>False</td>\n",
       "      <td>terrapin</td>\n",
       "      <td>0.017885</td>\n",
       "      <td>False</td>\n",
       "    </tr>\n",
       "    <tr>\n",
       "      <th>8</th>\n",
       "      <td>666057090499244032</td>\n",
       "      <td>https://pbs.twimg.com/media/CT5PY90WoAAQGLo.jpg</td>\n",
       "      <td>1</td>\n",
       "      <td>shopping_cart</td>\n",
       "      <td>0.962465</td>\n",
       "      <td>False</td>\n",
       "      <td>shopping_basket</td>\n",
       "      <td>0.014594</td>\n",
       "      <td>False</td>\n",
       "      <td>golden_retriever</td>\n",
       "      <td>0.007959</td>\n",
       "      <td>True</td>\n",
       "    </tr>\n",
       "    <tr>\n",
       "      <th>17</th>\n",
       "      <td>666104133288665088</td>\n",
       "      <td>https://pbs.twimg.com/media/CT56LSZWoAAlJj2.jpg</td>\n",
       "      <td>1</td>\n",
       "      <td>hen</td>\n",
       "      <td>0.965932</td>\n",
       "      <td>False</td>\n",
       "      <td>cock</td>\n",
       "      <td>0.033919</td>\n",
       "      <td>False</td>\n",
       "      <td>partridge</td>\n",
       "      <td>0.000052</td>\n",
       "      <td>False</td>\n",
       "    </tr>\n",
       "    <tr>\n",
       "      <th>18</th>\n",
       "      <td>666268910803644416</td>\n",
       "      <td>https://pbs.twimg.com/media/CT8QCd1WEAADXws.jpg</td>\n",
       "      <td>1</td>\n",
       "      <td>desktop_computer</td>\n",
       "      <td>0.086502</td>\n",
       "      <td>False</td>\n",
       "      <td>desk</td>\n",
       "      <td>0.085547</td>\n",
       "      <td>False</td>\n",
       "      <td>bookcase</td>\n",
       "      <td>0.079480</td>\n",
       "      <td>False</td>\n",
       "    </tr>\n",
       "    <tr>\n",
       "      <th>21</th>\n",
       "      <td>666293911632134144</td>\n",
       "      <td>https://pbs.twimg.com/media/CT8mx7KW4AEQu8N.jpg</td>\n",
       "      <td>1</td>\n",
       "      <td>three-toed_sloth</td>\n",
       "      <td>0.914671</td>\n",
       "      <td>False</td>\n",
       "      <td>otter</td>\n",
       "      <td>0.015250</td>\n",
       "      <td>False</td>\n",
       "      <td>great_grey_owl</td>\n",
       "      <td>0.013207</td>\n",
       "      <td>False</td>\n",
       "    </tr>\n",
       "  </tbody>\n",
       "</table>\n",
       "</div>"
      ],
      "text/plain": [
       "              tweet_id                                          jpg_url  \\\n",
       "6   666051853826850816  https://pbs.twimg.com/media/CT5KoJ1WoAAJash.jpg   \n",
       "8   666057090499244032  https://pbs.twimg.com/media/CT5PY90WoAAQGLo.jpg   \n",
       "17  666104133288665088  https://pbs.twimg.com/media/CT56LSZWoAAlJj2.jpg   \n",
       "18  666268910803644416  https://pbs.twimg.com/media/CT8QCd1WEAADXws.jpg   \n",
       "21  666293911632134144  https://pbs.twimg.com/media/CT8mx7KW4AEQu8N.jpg   \n",
       "\n",
       "    img_num                p1   p1_conf  p1_dog               p2   p2_conf  \\\n",
       "6         1        box_turtle  0.933012   False       mud_turtle  0.045885   \n",
       "8         1     shopping_cart  0.962465   False  shopping_basket  0.014594   \n",
       "17        1               hen  0.965932   False             cock  0.033919   \n",
       "18        1  desktop_computer  0.086502   False             desk  0.085547   \n",
       "21        1  three-toed_sloth  0.914671   False            otter  0.015250   \n",
       "\n",
       "    p2_dog                p3   p3_conf  p3_dog  \n",
       "6    False          terrapin  0.017885   False  \n",
       "8    False  golden_retriever  0.007959    True  \n",
       "17   False         partridge  0.000052   False  \n",
       "18   False          bookcase  0.079480   False  \n",
       "21   False    great_grey_owl  0.013207   False  "
      ]
     },
     "execution_count": 18,
     "metadata": {},
     "output_type": "execute_result"
    }
   ],
   "source": [
    "prediction_df[prediction_df.p1_dog == False].head(5)"
   ]
  },
  {
   "cell_type": "code",
   "execution_count": 19,
   "metadata": {},
   "outputs": [
    {
     "data": {
      "text/html": [
       "<div>\n",
       "<style scoped>\n",
       "    .dataframe tbody tr th:only-of-type {\n",
       "        vertical-align: middle;\n",
       "    }\n",
       "\n",
       "    .dataframe tbody tr th {\n",
       "        vertical-align: top;\n",
       "    }\n",
       "\n",
       "    .dataframe thead th {\n",
       "        text-align: right;\n",
       "    }\n",
       "</style>\n",
       "<table border=\"1\" class=\"dataframe\">\n",
       "  <thead>\n",
       "    <tr style=\"text-align: right;\">\n",
       "      <th></th>\n",
       "      <th>tweet_id</th>\n",
       "      <th>jpg_url</th>\n",
       "      <th>img_num</th>\n",
       "      <th>p1</th>\n",
       "      <th>p1_conf</th>\n",
       "      <th>p1_dog</th>\n",
       "      <th>p2</th>\n",
       "      <th>p2_conf</th>\n",
       "      <th>p2_dog</th>\n",
       "      <th>p3</th>\n",
       "      <th>p3_conf</th>\n",
       "      <th>p3_dog</th>\n",
       "    </tr>\n",
       "  </thead>\n",
       "  <tbody>\n",
       "    <tr>\n",
       "      <th>144</th>\n",
       "      <td>668623201287675904</td>\n",
       "      <td>https://pbs.twimg.com/media/CUdtP1xUYAIeBnE.jpg</td>\n",
       "      <td>4</td>\n",
       "      <td>Chihuahua</td>\n",
       "      <td>0.708163</td>\n",
       "      <td>True</td>\n",
       "      <td>Pomeranian</td>\n",
       "      <td>0.091372</td>\n",
       "      <td>True</td>\n",
       "      <td>titi</td>\n",
       "      <td>0.067325</td>\n",
       "      <td>False</td>\n",
       "    </tr>\n",
       "    <tr>\n",
       "      <th>312</th>\n",
       "      <td>671547767500775424</td>\n",
       "      <td>https://pbs.twimg.com/media/CVHRIiqWEAAj98K.jpg</td>\n",
       "      <td>2</td>\n",
       "      <td>Loafer</td>\n",
       "      <td>0.255088</td>\n",
       "      <td>False</td>\n",
       "      <td>platypus</td>\n",
       "      <td>0.090019</td>\n",
       "      <td>False</td>\n",
       "      <td>cowboy_boot</td>\n",
       "      <td>0.066536</td>\n",
       "      <td>False</td>\n",
       "    </tr>\n",
       "    <tr>\n",
       "      <th>315</th>\n",
       "      <td>671735591348891648</td>\n",
       "      <td>https://pbs.twimg.com/media/CVJ79MzW4AEpTom.jpg</td>\n",
       "      <td>2</td>\n",
       "      <td>stone_wall</td>\n",
       "      <td>0.271121</td>\n",
       "      <td>False</td>\n",
       "      <td>Irish_wolfhound</td>\n",
       "      <td>0.063078</td>\n",
       "      <td>True</td>\n",
       "      <td>poncho</td>\n",
       "      <td>0.048226</td>\n",
       "      <td>False</td>\n",
       "    </tr>\n",
       "    <tr>\n",
       "      <th>319</th>\n",
       "      <td>671768281401958400</td>\n",
       "      <td>https://pbs.twimg.com/media/CVKZsHtWwAA6gPj.jpg</td>\n",
       "      <td>2</td>\n",
       "      <td>Chihuahua</td>\n",
       "      <td>0.500373</td>\n",
       "      <td>True</td>\n",
       "      <td>French_bulldog</td>\n",
       "      <td>0.112796</td>\n",
       "      <td>True</td>\n",
       "      <td>Italian_greyhound</td>\n",
       "      <td>0.062893</td>\n",
       "      <td>True</td>\n",
       "    </tr>\n",
       "    <tr>\n",
       "      <th>345</th>\n",
       "      <td>672272411274932228</td>\n",
       "      <td>https://pbs.twimg.com/media/CVRkLuJWUAAhhYp.jpg</td>\n",
       "      <td>2</td>\n",
       "      <td>pug</td>\n",
       "      <td>0.914685</td>\n",
       "      <td>True</td>\n",
       "      <td>Norwegian_elkhound</td>\n",
       "      <td>0.014982</td>\n",
       "      <td>True</td>\n",
       "      <td>Siamese_cat</td>\n",
       "      <td>0.009221</td>\n",
       "      <td>False</td>\n",
       "    </tr>\n",
       "  </tbody>\n",
       "</table>\n",
       "</div>"
      ],
      "text/plain": [
       "               tweet_id                                          jpg_url  \\\n",
       "144  668623201287675904  https://pbs.twimg.com/media/CUdtP1xUYAIeBnE.jpg   \n",
       "312  671547767500775424  https://pbs.twimg.com/media/CVHRIiqWEAAj98K.jpg   \n",
       "315  671735591348891648  https://pbs.twimg.com/media/CVJ79MzW4AEpTom.jpg   \n",
       "319  671768281401958400  https://pbs.twimg.com/media/CVKZsHtWwAA6gPj.jpg   \n",
       "345  672272411274932228  https://pbs.twimg.com/media/CVRkLuJWUAAhhYp.jpg   \n",
       "\n",
       "     img_num          p1   p1_conf  p1_dog                  p2   p2_conf  \\\n",
       "144        4   Chihuahua  0.708163    True          Pomeranian  0.091372   \n",
       "312        2      Loafer  0.255088   False            platypus  0.090019   \n",
       "315        2  stone_wall  0.271121   False     Irish_wolfhound  0.063078   \n",
       "319        2   Chihuahua  0.500373    True      French_bulldog  0.112796   \n",
       "345        2         pug  0.914685    True  Norwegian_elkhound  0.014982   \n",
       "\n",
       "     p2_dog                 p3   p3_conf  p3_dog  \n",
       "144    True               titi  0.067325   False  \n",
       "312   False        cowboy_boot  0.066536   False  \n",
       "315    True             poncho  0.048226   False  \n",
       "319    True  Italian_greyhound  0.062893    True  \n",
       "345    True        Siamese_cat  0.009221   False  "
      ]
     },
     "execution_count": 19,
     "metadata": {},
     "output_type": "execute_result"
    }
   ],
   "source": [
    "# Additional assessment for prediction records having image_num > 1\n",
    "prediction_df[prediction_df.img_num > 1].head()"
   ]
  },
  {
   "cell_type": "markdown",
   "metadata": {},
   "source": [
    "I inspected few URLs randomly e.g. tweetID = 668623201287675904 image URL = https://pbs.twimg.com/media/CUdtP1xUYAIeBnE.jpg\n",
    "These appear to be picture of dog(s). "
   ]
  },
  {
   "cell_type": "markdown",
   "metadata": {},
   "source": [
    "Visual observation about *prediction_df*\n",
    "\n",
    "* File could be open in the spreadsheet\n",
    "* 2075 number of records found\n",
    "* In most cases `img_num = 1`. May need to do additional assessment where `img_num > 1`\n",
    "* There are records for which the pictures do not correspond to a dog e.g. tweet_id = 666051853826850816 having the image of <a href=\"https://pbs.twimg.com/media/CT5KoJ1WoAAJash.jpg\">box turtle</a> So this dog classification data where `p1_dog or p2_dog or p3_dog = False` can't be used if popularity of a specific breed of dog is indicated by number of retweets or \"likes\""
   ]
  },
  {
   "cell_type": "code",
   "execution_count": 20,
   "metadata": {},
   "outputs": [
    {
     "data": {
      "text/html": [
       "<div>\n",
       "<style scoped>\n",
       "    .dataframe tbody tr th:only-of-type {\n",
       "        vertical-align: middle;\n",
       "    }\n",
       "\n",
       "    .dataframe tbody tr th {\n",
       "        vertical-align: top;\n",
       "    }\n",
       "\n",
       "    .dataframe thead th {\n",
       "        text-align: right;\n",
       "    }\n",
       "</style>\n",
       "<table border=\"1\" class=\"dataframe\">\n",
       "  <thead>\n",
       "    <tr style=\"text-align: right;\">\n",
       "      <th></th>\n",
       "      <th>tweet_id</th>\n",
       "      <th>in_reply_to_status_id</th>\n",
       "      <th>in_reply_to_user_id</th>\n",
       "      <th>timestamp</th>\n",
       "      <th>source</th>\n",
       "      <th>text</th>\n",
       "      <th>retweeted_status_id</th>\n",
       "      <th>retweeted_status_user_id</th>\n",
       "      <th>retweeted_status_timestamp</th>\n",
       "      <th>expanded_urls</th>\n",
       "      <th>rating_numerator</th>\n",
       "      <th>rating_denominator</th>\n",
       "      <th>name</th>\n",
       "      <th>doggo</th>\n",
       "      <th>floofer</th>\n",
       "      <th>pupper</th>\n",
       "      <th>puppo</th>\n",
       "    </tr>\n",
       "  </thead>\n",
       "  <tbody>\n",
       "    <tr>\n",
       "      <th>0</th>\n",
       "      <td>892420643555336193</td>\n",
       "      <td>NaN</td>\n",
       "      <td>NaN</td>\n",
       "      <td>2017-08-01 16:23:56 +0000</td>\n",
       "      <td>&lt;a href=\"http://twitter.com/download/iphone\" r...</td>\n",
       "      <td>This is Phineas. He's a mystical boy. Only eve...</td>\n",
       "      <td>NaN</td>\n",
       "      <td>NaN</td>\n",
       "      <td>NaN</td>\n",
       "      <td>https://twitter.com/dog_rates/status/892420643...</td>\n",
       "      <td>13</td>\n",
       "      <td>10</td>\n",
       "      <td>Phineas</td>\n",
       "      <td>None</td>\n",
       "      <td>None</td>\n",
       "      <td>None</td>\n",
       "      <td>None</td>\n",
       "    </tr>\n",
       "    <tr>\n",
       "      <th>1</th>\n",
       "      <td>892177421306343426</td>\n",
       "      <td>NaN</td>\n",
       "      <td>NaN</td>\n",
       "      <td>2017-08-01 00:17:27 +0000</td>\n",
       "      <td>&lt;a href=\"http://twitter.com/download/iphone\" r...</td>\n",
       "      <td>This is Tilly. She's just checking pup on you....</td>\n",
       "      <td>NaN</td>\n",
       "      <td>NaN</td>\n",
       "      <td>NaN</td>\n",
       "      <td>https://twitter.com/dog_rates/status/892177421...</td>\n",
       "      <td>13</td>\n",
       "      <td>10</td>\n",
       "      <td>Tilly</td>\n",
       "      <td>None</td>\n",
       "      <td>None</td>\n",
       "      <td>None</td>\n",
       "      <td>None</td>\n",
       "    </tr>\n",
       "    <tr>\n",
       "      <th>2</th>\n",
       "      <td>891815181378084864</td>\n",
       "      <td>NaN</td>\n",
       "      <td>NaN</td>\n",
       "      <td>2017-07-31 00:18:03 +0000</td>\n",
       "      <td>&lt;a href=\"http://twitter.com/download/iphone\" r...</td>\n",
       "      <td>This is Archie. He is a rare Norwegian Pouncin...</td>\n",
       "      <td>NaN</td>\n",
       "      <td>NaN</td>\n",
       "      <td>NaN</td>\n",
       "      <td>https://twitter.com/dog_rates/status/891815181...</td>\n",
       "      <td>12</td>\n",
       "      <td>10</td>\n",
       "      <td>Archie</td>\n",
       "      <td>None</td>\n",
       "      <td>None</td>\n",
       "      <td>None</td>\n",
       "      <td>None</td>\n",
       "    </tr>\n",
       "    <tr>\n",
       "      <th>3</th>\n",
       "      <td>891689557279858688</td>\n",
       "      <td>NaN</td>\n",
       "      <td>NaN</td>\n",
       "      <td>2017-07-30 15:58:51 +0000</td>\n",
       "      <td>&lt;a href=\"http://twitter.com/download/iphone\" r...</td>\n",
       "      <td>This is Darla. She commenced a snooze mid meal...</td>\n",
       "      <td>NaN</td>\n",
       "      <td>NaN</td>\n",
       "      <td>NaN</td>\n",
       "      <td>https://twitter.com/dog_rates/status/891689557...</td>\n",
       "      <td>13</td>\n",
       "      <td>10</td>\n",
       "      <td>Darla</td>\n",
       "      <td>None</td>\n",
       "      <td>None</td>\n",
       "      <td>None</td>\n",
       "      <td>None</td>\n",
       "    </tr>\n",
       "    <tr>\n",
       "      <th>4</th>\n",
       "      <td>891327558926688256</td>\n",
       "      <td>NaN</td>\n",
       "      <td>NaN</td>\n",
       "      <td>2017-07-29 16:00:24 +0000</td>\n",
       "      <td>&lt;a href=\"http://twitter.com/download/iphone\" r...</td>\n",
       "      <td>This is Franklin. He would like you to stop ca...</td>\n",
       "      <td>NaN</td>\n",
       "      <td>NaN</td>\n",
       "      <td>NaN</td>\n",
       "      <td>https://twitter.com/dog_rates/status/891327558...</td>\n",
       "      <td>12</td>\n",
       "      <td>10</td>\n",
       "      <td>Franklin</td>\n",
       "      <td>None</td>\n",
       "      <td>None</td>\n",
       "      <td>None</td>\n",
       "      <td>None</td>\n",
       "    </tr>\n",
       "  </tbody>\n",
       "</table>\n",
       "</div>"
      ],
      "text/plain": [
       "             tweet_id  in_reply_to_status_id  in_reply_to_user_id  \\\n",
       "0  892420643555336193                    NaN                  NaN   \n",
       "1  892177421306343426                    NaN                  NaN   \n",
       "2  891815181378084864                    NaN                  NaN   \n",
       "3  891689557279858688                    NaN                  NaN   \n",
       "4  891327558926688256                    NaN                  NaN   \n",
       "\n",
       "                   timestamp  \\\n",
       "0  2017-08-01 16:23:56 +0000   \n",
       "1  2017-08-01 00:17:27 +0000   \n",
       "2  2017-07-31 00:18:03 +0000   \n",
       "3  2017-07-30 15:58:51 +0000   \n",
       "4  2017-07-29 16:00:24 +0000   \n",
       "\n",
       "                                              source  \\\n",
       "0  <a href=\"http://twitter.com/download/iphone\" r...   \n",
       "1  <a href=\"http://twitter.com/download/iphone\" r...   \n",
       "2  <a href=\"http://twitter.com/download/iphone\" r...   \n",
       "3  <a href=\"http://twitter.com/download/iphone\" r...   \n",
       "4  <a href=\"http://twitter.com/download/iphone\" r...   \n",
       "\n",
       "                                                text  retweeted_status_id  \\\n",
       "0  This is Phineas. He's a mystical boy. Only eve...                  NaN   \n",
       "1  This is Tilly. She's just checking pup on you....                  NaN   \n",
       "2  This is Archie. He is a rare Norwegian Pouncin...                  NaN   \n",
       "3  This is Darla. She commenced a snooze mid meal...                  NaN   \n",
       "4  This is Franklin. He would like you to stop ca...                  NaN   \n",
       "\n",
       "   retweeted_status_user_id retweeted_status_timestamp  \\\n",
       "0                       NaN                        NaN   \n",
       "1                       NaN                        NaN   \n",
       "2                       NaN                        NaN   \n",
       "3                       NaN                        NaN   \n",
       "4                       NaN                        NaN   \n",
       "\n",
       "                                       expanded_urls  rating_numerator  \\\n",
       "0  https://twitter.com/dog_rates/status/892420643...                13   \n",
       "1  https://twitter.com/dog_rates/status/892177421...                13   \n",
       "2  https://twitter.com/dog_rates/status/891815181...                12   \n",
       "3  https://twitter.com/dog_rates/status/891689557...                13   \n",
       "4  https://twitter.com/dog_rates/status/891327558...                12   \n",
       "\n",
       "   rating_denominator      name doggo floofer pupper puppo  \n",
       "0                  10   Phineas  None    None   None  None  \n",
       "1                  10     Tilly  None    None   None  None  \n",
       "2                  10    Archie  None    None   None  None  \n",
       "3                  10     Darla  None    None   None  None  \n",
       "4                  10  Franklin  None    None   None  None  "
      ]
     },
     "execution_count": 20,
     "metadata": {},
     "output_type": "execute_result"
    }
   ],
   "source": [
    "twitter_enhanced_df.head()\n"
   ]
  },
  {
   "cell_type": "markdown",
   "metadata": {},
   "source": [
    "`twitter_enhanced_df` columns:\n",
    "- **tweet_id**: the unique identifier for each tweet\n",
    "- **in_reply_to_status_id**: Nullable. If the represented Tweet is a reply, this field will contain the integer representation of the original Tweet’s ID\n",
    "- **in_reply_to_user_id**: Nullable. If the represented Tweet is a reply, this field will contain the integer representation of the original Tweet’s author ID. This will not necessarily always be the user directly mentioned in the Tweet.\n",
    "- **timstamp**: Timestamp of the tweet\n",
    "- **source**: Utility used to post the Tweet, as an HTML-formatted string. Tweets from the Twitter website have a source value of `web`\n",
    "- **text**: Actual tweet\n",
    "- **retweeted_status_id**: Users can amplify the broadcast of Tweets authored by other users by retweeting . Retweets can be distinguished from typical Tweets by the existence of a retweeted_status attribute\n",
    "- **retweeted_status_user_id**:\n",
    "- **retweeted_status_timestamp**: timestamp of the tweet which is retweeted here\n",
    "- **expanded_url**: \n",
    "- **rating_numerator**: Numerator of rating given to dog\n",
    "- **rating_denominator**: Denominator of the ratings given to dog\n",
    "- **name**: name of the dog as it appears in the tweet\n",
    "- **doggo**: Classification of the dog based on dogtionary\n",
    "- **floffer**: Classification of the dog based on dogtionary\n",
    "- **pupper**: Classification of the dog based on dogtionary\n",
    "- **puppo**: Classification of the dog based on dogtionary\n"
   ]
  },
  {
   "cell_type": "code",
   "execution_count": 21,
   "metadata": {},
   "outputs": [
    {
     "name": "stdout",
     "output_type": "stream",
     "text": [
      "<class 'pandas.core.frame.DataFrame'>\n",
      "RangeIndex: 2356 entries, 0 to 2355\n",
      "Data columns (total 17 columns):\n",
      "tweet_id                      2356 non-null int64\n",
      "in_reply_to_status_id         78 non-null float64\n",
      "in_reply_to_user_id           78 non-null float64\n",
      "timestamp                     2356 non-null object\n",
      "source                        2356 non-null object\n",
      "text                          2356 non-null object\n",
      "retweeted_status_id           181 non-null float64\n",
      "retweeted_status_user_id      181 non-null float64\n",
      "retweeted_status_timestamp    181 non-null object\n",
      "expanded_urls                 2297 non-null object\n",
      "rating_numerator              2356 non-null int64\n",
      "rating_denominator            2356 non-null int64\n",
      "name                          2356 non-null object\n",
      "doggo                         2356 non-null object\n",
      "floofer                       2356 non-null object\n",
      "pupper                        2356 non-null object\n",
      "puppo                         2356 non-null object\n",
      "dtypes: float64(4), int64(3), object(10)\n",
      "memory usage: 313.0+ KB\n"
     ]
    }
   ],
   "source": [
    "twitter_enhanced_df.info()"
   ]
  },
  {
   "cell_type": "code",
   "execution_count": 22,
   "metadata": {},
   "outputs": [
    {
     "data": {
      "text/plain": [
       "None     2259\n",
       "doggo      97\n",
       "Name: doggo, dtype: int64"
      ]
     },
     "execution_count": 22,
     "metadata": {},
     "output_type": "execute_result"
    }
   ],
   "source": [
    "twitter_enhanced_df.doggo.value_counts()"
   ]
  },
  {
   "cell_type": "code",
   "execution_count": 23,
   "metadata": {},
   "outputs": [
    {
     "data": {
      "text/plain": [
       "None       2346\n",
       "floofer      10\n",
       "Name: floofer, dtype: int64"
      ]
     },
     "execution_count": 23,
     "metadata": {},
     "output_type": "execute_result"
    }
   ],
   "source": [
    "twitter_enhanced_df.floofer.value_counts()"
   ]
  },
  {
   "cell_type": "code",
   "execution_count": 24,
   "metadata": {},
   "outputs": [
    {
     "data": {
      "text/plain": [
       "None      2099\n",
       "pupper     257\n",
       "Name: pupper, dtype: int64"
      ]
     },
     "execution_count": 24,
     "metadata": {},
     "output_type": "execute_result"
    }
   ],
   "source": [
    "twitter_enhanced_df.pupper.value_counts()"
   ]
  },
  {
   "cell_type": "code",
   "execution_count": 25,
   "metadata": {},
   "outputs": [
    {
     "data": {
      "text/plain": [
       "None     2326\n",
       "puppo      30\n",
       "Name: puppo, dtype: int64"
      ]
     },
     "execution_count": 25,
     "metadata": {},
     "output_type": "execute_result"
    }
   ],
   "source": [
    "twitter_enhanced_df.puppo.value_counts()"
   ]
  },
  {
   "cell_type": "code",
   "execution_count": 26,
   "metadata": {},
   "outputs": [
    {
     "data": {
      "text/html": [
       "<div>\n",
       "<style scoped>\n",
       "    .dataframe tbody tr th:only-of-type {\n",
       "        vertical-align: middle;\n",
       "    }\n",
       "\n",
       "    .dataframe tbody tr th {\n",
       "        vertical-align: top;\n",
       "    }\n",
       "\n",
       "    .dataframe thead th {\n",
       "        text-align: right;\n",
       "    }\n",
       "</style>\n",
       "<table border=\"1\" class=\"dataframe\">\n",
       "  <thead>\n",
       "    <tr style=\"text-align: right;\">\n",
       "      <th></th>\n",
       "      <th>tweet_id</th>\n",
       "      <th>in_reply_to_status_id</th>\n",
       "      <th>in_reply_to_user_id</th>\n",
       "      <th>timestamp</th>\n",
       "      <th>source</th>\n",
       "      <th>text</th>\n",
       "      <th>retweeted_status_id</th>\n",
       "      <th>retweeted_status_user_id</th>\n",
       "      <th>retweeted_status_timestamp</th>\n",
       "      <th>expanded_urls</th>\n",
       "      <th>rating_numerator</th>\n",
       "      <th>rating_denominator</th>\n",
       "      <th>name</th>\n",
       "      <th>doggo</th>\n",
       "      <th>floofer</th>\n",
       "      <th>pupper</th>\n",
       "      <th>puppo</th>\n",
       "    </tr>\n",
       "  </thead>\n",
       "  <tbody>\n",
       "    <tr>\n",
       "      <th>1431</th>\n",
       "      <td>697516214579523584</td>\n",
       "      <td>NaN</td>\n",
       "      <td>NaN</td>\n",
       "      <td>2016-02-10 20:23:19 +0000</td>\n",
       "      <td>&lt;a href=\"http://vine.co\" rel=\"nofollow\"&gt;Vine -...</td>\n",
       "      <td>Say hello to Pherb. He does parkour. 9/10 http...</td>\n",
       "      <td>NaN</td>\n",
       "      <td>NaN</td>\n",
       "      <td>NaN</td>\n",
       "      <td>https://vine.co/v/i1LriMBmX6W</td>\n",
       "      <td>9</td>\n",
       "      <td>10</td>\n",
       "      <td>Pherb</td>\n",
       "      <td>None</td>\n",
       "      <td>None</td>\n",
       "      <td>None</td>\n",
       "      <td>None</td>\n",
       "    </tr>\n",
       "    <tr>\n",
       "      <th>1185</th>\n",
       "      <td>718613305783398402</td>\n",
       "      <td>NaN</td>\n",
       "      <td>NaN</td>\n",
       "      <td>2016-04-09 01:35:37 +0000</td>\n",
       "      <td>&lt;a href=\"http://twitter.com/download/iphone\" r...</td>\n",
       "      <td>This is Carper. He's a Tortellini Angiosperm. ...</td>\n",
       "      <td>NaN</td>\n",
       "      <td>NaN</td>\n",
       "      <td>NaN</td>\n",
       "      <td>https://twitter.com/dog_rates/status/718613305...</td>\n",
       "      <td>11</td>\n",
       "      <td>10</td>\n",
       "      <td>Carper</td>\n",
       "      <td>None</td>\n",
       "      <td>None</td>\n",
       "      <td>None</td>\n",
       "      <td>None</td>\n",
       "    </tr>\n",
       "    <tr>\n",
       "      <th>1942</th>\n",
       "      <td>673711475735838725</td>\n",
       "      <td>NaN</td>\n",
       "      <td>NaN</td>\n",
       "      <td>2015-12-07 03:51:47 +0000</td>\n",
       "      <td>&lt;a href=\"http://twitter.com/download/iphone\" r...</td>\n",
       "      <td>🎶 HELLO FROM THE OTHER SIIIIIIIIDE 🎶 10/10 htt...</td>\n",
       "      <td>NaN</td>\n",
       "      <td>NaN</td>\n",
       "      <td>NaN</td>\n",
       "      <td>https://twitter.com/dog_rates/status/673711475...</td>\n",
       "      <td>10</td>\n",
       "      <td>10</td>\n",
       "      <td>None</td>\n",
       "      <td>None</td>\n",
       "      <td>None</td>\n",
       "      <td>None</td>\n",
       "      <td>None</td>\n",
       "    </tr>\n",
       "    <tr>\n",
       "      <th>2315</th>\n",
       "      <td>666691418707132416</td>\n",
       "      <td>NaN</td>\n",
       "      <td>NaN</td>\n",
       "      <td>2015-11-17 18:56:35 +0000</td>\n",
       "      <td>&lt;a href=\"http://twitter.com/download/iphone\" r...</td>\n",
       "      <td>This is Christoper. He is a spotted Penne. Can...</td>\n",
       "      <td>NaN</td>\n",
       "      <td>NaN</td>\n",
       "      <td>NaN</td>\n",
       "      <td>https://twitter.com/dog_rates/status/666691418...</td>\n",
       "      <td>8</td>\n",
       "      <td>10</td>\n",
       "      <td>Christoper</td>\n",
       "      <td>None</td>\n",
       "      <td>None</td>\n",
       "      <td>None</td>\n",
       "      <td>None</td>\n",
       "    </tr>\n",
       "    <tr>\n",
       "      <th>1530</th>\n",
       "      <td>690021994562220032</td>\n",
       "      <td>NaN</td>\n",
       "      <td>NaN</td>\n",
       "      <td>2016-01-21 04:03:58 +0000</td>\n",
       "      <td>&lt;a href=\"http://twitter.com/download/iphone\" r...</td>\n",
       "      <td>Say hello to Geoff (pronounced \"Kyle\"). He acc...</td>\n",
       "      <td>NaN</td>\n",
       "      <td>NaN</td>\n",
       "      <td>NaN</td>\n",
       "      <td>https://twitter.com/dog_rates/status/690021994...</td>\n",
       "      <td>10</td>\n",
       "      <td>10</td>\n",
       "      <td>Geoff</td>\n",
       "      <td>None</td>\n",
       "      <td>None</td>\n",
       "      <td>None</td>\n",
       "      <td>None</td>\n",
       "    </tr>\n",
       "  </tbody>\n",
       "</table>\n",
       "</div>"
      ],
      "text/plain": [
       "                tweet_id  in_reply_to_status_id  in_reply_to_user_id  \\\n",
       "1431  697516214579523584                    NaN                  NaN   \n",
       "1185  718613305783398402                    NaN                  NaN   \n",
       "1942  673711475735838725                    NaN                  NaN   \n",
       "2315  666691418707132416                    NaN                  NaN   \n",
       "1530  690021994562220032                    NaN                  NaN   \n",
       "\n",
       "                      timestamp  \\\n",
       "1431  2016-02-10 20:23:19 +0000   \n",
       "1185  2016-04-09 01:35:37 +0000   \n",
       "1942  2015-12-07 03:51:47 +0000   \n",
       "2315  2015-11-17 18:56:35 +0000   \n",
       "1530  2016-01-21 04:03:58 +0000   \n",
       "\n",
       "                                                 source  \\\n",
       "1431  <a href=\"http://vine.co\" rel=\"nofollow\">Vine -...   \n",
       "1185  <a href=\"http://twitter.com/download/iphone\" r...   \n",
       "1942  <a href=\"http://twitter.com/download/iphone\" r...   \n",
       "2315  <a href=\"http://twitter.com/download/iphone\" r...   \n",
       "1530  <a href=\"http://twitter.com/download/iphone\" r...   \n",
       "\n",
       "                                                   text  retweeted_status_id  \\\n",
       "1431  Say hello to Pherb. He does parkour. 9/10 http...                  NaN   \n",
       "1185  This is Carper. He's a Tortellini Angiosperm. ...                  NaN   \n",
       "1942  🎶 HELLO FROM THE OTHER SIIIIIIIIDE 🎶 10/10 htt...                  NaN   \n",
       "2315  This is Christoper. He is a spotted Penne. Can...                  NaN   \n",
       "1530  Say hello to Geoff (pronounced \"Kyle\"). He acc...                  NaN   \n",
       "\n",
       "      retweeted_status_user_id retweeted_status_timestamp  \\\n",
       "1431                       NaN                        NaN   \n",
       "1185                       NaN                        NaN   \n",
       "1942                       NaN                        NaN   \n",
       "2315                       NaN                        NaN   \n",
       "1530                       NaN                        NaN   \n",
       "\n",
       "                                          expanded_urls  rating_numerator  \\\n",
       "1431                      https://vine.co/v/i1LriMBmX6W                 9   \n",
       "1185  https://twitter.com/dog_rates/status/718613305...                11   \n",
       "1942  https://twitter.com/dog_rates/status/673711475...                10   \n",
       "2315  https://twitter.com/dog_rates/status/666691418...                 8   \n",
       "1530  https://twitter.com/dog_rates/status/690021994...                10   \n",
       "\n",
       "      rating_denominator        name doggo floofer pupper puppo  \n",
       "1431                  10       Pherb  None    None   None  None  \n",
       "1185                  10      Carper  None    None   None  None  \n",
       "1942                  10        None  None    None   None  None  \n",
       "2315                  10  Christoper  None    None   None  None  \n",
       "1530                  10       Geoff  None    None   None  None  "
      ]
     },
     "execution_count": 26,
     "metadata": {},
     "output_type": "execute_result"
    }
   ],
   "source": [
    "twitter_enhanced_df.sample(5)"
   ]
  },
  {
   "cell_type": "markdown",
   "metadata": {},
   "source": [
    "* This dataframe contains 2356 records\n",
    "* There are 181 not null values in `retweeted_status_id` field. This means that this dataframe contains 181 retweets out of total 2356 tweets listed in the file. These retweets may have to be removed if the analysis involves only tweets\n",
    "* These retweets need to be filtered.\n",
    "* `dog_stage` data seems to be very sparse. In majroity cases these columns contain `None`\n",
    "* Opening the file in spreadsheet program shows few other data \n",
    "    - Dog name column often contain meaningless names or trunacted names e.g. dog name for the tweet ID = 668171859951755264 Here the actual dog name should be \"Alfanso\"\n",
    "    - Tweet timestamp column contains +0000 It doesn't represent time zone. So its presence in the file is misleading.\n",
    "\n"
   ]
  },
  {
   "cell_type": "code",
   "execution_count": 27,
   "metadata": {},
   "outputs": [
    {
     "data": {
      "text/html": [
       "<div>\n",
       "<style scoped>\n",
       "    .dataframe tbody tr th:only-of-type {\n",
       "        vertical-align: middle;\n",
       "    }\n",
       "\n",
       "    .dataframe tbody tr th {\n",
       "        vertical-align: top;\n",
       "    }\n",
       "\n",
       "    .dataframe thead th {\n",
       "        text-align: right;\n",
       "    }\n",
       "</style>\n",
       "<table border=\"1\" class=\"dataframe\">\n",
       "  <thead>\n",
       "    <tr style=\"text-align: right;\">\n",
       "      <th></th>\n",
       "      <th>favorite_count</th>\n",
       "      <th>followers_count</th>\n",
       "      <th>retweet_count</th>\n",
       "      <th>source</th>\n",
       "      <th>tweet_id</th>\n",
       "    </tr>\n",
       "  </thead>\n",
       "  <tbody>\n",
       "    <tr>\n",
       "      <th>0</th>\n",
       "      <td>18383</td>\n",
       "      <td>7789116</td>\n",
       "      <td>2344</td>\n",
       "      <td>iphone</td>\n",
       "      <td>876484053909872640</td>\n",
       "    </tr>\n",
       "    <tr>\n",
       "      <th>1</th>\n",
       "      <td>20732</td>\n",
       "      <td>7789116</td>\n",
       "      <td>3111</td>\n",
       "      <td>iphone</td>\n",
       "      <td>886366144734445568</td>\n",
       "    </tr>\n",
       "    <tr>\n",
       "      <th>2</th>\n",
       "      <td>0</td>\n",
       "      <td>7789116</td>\n",
       "      <td>78</td>\n",
       "      <td>iphone</td>\n",
       "      <td>877611172832227328</td>\n",
       "    </tr>\n",
       "    <tr>\n",
       "      <th>3</th>\n",
       "      <td>21272</td>\n",
       "      <td>7789116</td>\n",
       "      <td>3395</td>\n",
       "      <td>iphone</td>\n",
       "      <td>888078434458587136</td>\n",
       "    </tr>\n",
       "    <tr>\n",
       "      <th>4</th>\n",
       "      <td>41208</td>\n",
       "      <td>7789116</td>\n",
       "      <td>8403</td>\n",
       "      <td>iphone</td>\n",
       "      <td>891689557279858688</td>\n",
       "    </tr>\n",
       "  </tbody>\n",
       "</table>\n",
       "</div>"
      ],
      "text/plain": [
       "   favorite_count  followers_count  retweet_count  source            tweet_id\n",
       "0           18383          7789116           2344  iphone  876484053909872640\n",
       "1           20732          7789116           3111  iphone  886366144734445568\n",
       "2               0          7789116             78  iphone  877611172832227328\n",
       "3           21272          7789116           3395  iphone  888078434458587136\n",
       "4           41208          7789116           8403  iphone  891689557279858688"
      ]
     },
     "execution_count": 27,
     "metadata": {},
     "output_type": "execute_result"
    }
   ],
   "source": [
    "tweet_data_df.head(5)"
   ]
  },
  {
   "cell_type": "markdown",
   "metadata": {},
   "source": [
    "`tweet_data_df` columns:\n",
    "- **tweet_id**: the unique identifier for each tweet\n",
    "- **favorite_count**: Number if likes for the tweet\n",
    "- **followers_count**: Number of followers of the twitter handle `weratedogs`. I included this field hoping to do some analysis of follower count of the twitter handle over time\n",
    "- **retweet_count**: Number of retweets of the given tweet\n",
    "- **source**: Utility used to post the Tweet, as an HTML-formatted string. Tweets from the Twitter website have a source value of `web`. This field a cleaned up version of `source` field available from Twitter Json. \n",
    "    "
   ]
  },
  {
   "cell_type": "code",
   "execution_count": 28,
   "metadata": {},
   "outputs": [
    {
     "name": "stdout",
     "output_type": "stream",
     "text": [
      "<class 'pandas.core.frame.DataFrame'>\n",
      "RangeIndex: 2340 entries, 0 to 2339\n",
      "Data columns (total 5 columns):\n",
      "favorite_count     2340 non-null int64\n",
      "followers_count    2340 non-null int64\n",
      "retweet_count      2340 non-null int64\n",
      "source             2340 non-null object\n",
      "tweet_id           2340 non-null int64\n",
      "dtypes: int64(4), object(1)\n",
      "memory usage: 91.5+ KB\n"
     ]
    }
   ],
   "source": [
    "tweet_data_df.info()"
   ]
  },
  {
   "cell_type": "markdown",
   "metadata": {},
   "source": [
    "* This dataframe contains 2340 entries. It is smaller by 16 records compared to `twitter_enhanced_df` as my attempt to get retweet & favorite count didn't result in success for 16 records.\n",
    "* source is programatically cleaned\n"
   ]
  },
  {
   "cell_type": "markdown",
   "metadata": {},
   "source": [
    "### Programatic Assessment\n",
    "\n",
    "Visual analysis provides high level information about each data source. Next each dataframe is assessed using Python and Pandas. During this stage, I make a list of data cleanliness and structural issues along the way.\n",
    "Correction of cleanliness and structural issues will be addressed in the next section."
   ]
  },
  {
   "cell_type": "code",
   "execution_count": 29,
   "metadata": {},
   "outputs": [
    {
     "name": "stdout",
     "output_type": "stream",
     "text": [
      "<class 'pandas.core.frame.DataFrame'>\n",
      "RangeIndex: 2356 entries, 0 to 2355\n",
      "Data columns (total 17 columns):\n",
      "tweet_id                      2356 non-null int64\n",
      "in_reply_to_status_id         78 non-null float64\n",
      "in_reply_to_user_id           78 non-null float64\n",
      "timestamp                     2356 non-null object\n",
      "source                        2356 non-null object\n",
      "text                          2356 non-null object\n",
      "retweeted_status_id           181 non-null float64\n",
      "retweeted_status_user_id      181 non-null float64\n",
      "retweeted_status_timestamp    181 non-null object\n",
      "expanded_urls                 2297 non-null object\n",
      "rating_numerator              2356 non-null int64\n",
      "rating_denominator            2356 non-null int64\n",
      "name                          2356 non-null object\n",
      "doggo                         2356 non-null object\n",
      "floofer                       2356 non-null object\n",
      "pupper                        2356 non-null object\n",
      "puppo                         2356 non-null object\n",
      "dtypes: float64(4), int64(3), object(10)\n",
      "memory usage: 313.0+ KB\n"
     ]
    }
   ],
   "source": [
    "twitter_enhanced_df.info()"
   ]
  },
  {
   "cell_type": "code",
   "execution_count": 30,
   "metadata": {},
   "outputs": [
    {
     "name": "stdout",
     "output_type": "stream",
     "text": [
      "Number of records in twitter_enhanced_df = 2356\n",
      "Count of records in timestamp column having values ending in four trailing zeros = 2356\n",
      "Number of duplicated records in twitter_enhanced_data = 0\n",
      "Number of reply tweets = 78\n",
      "Number of retweets = 181\n",
      "Number of records in twitter_enhanced_df excluding replies & retweets = 2097\n"
     ]
    }
   ],
   "source": [
    "twitter_df_count = len(twitter_enhanced_df.index)\n",
    "print(\"Number of records in twitter_enhanced_df = %d\" % twitter_df_count)\n",
    "print(\"Count of records in timestamp column having values ending in four trailing zeros = %d\" % len(twitter_enhanced_df.timestamp.apply(lambda x: x.endswith(\"0000\")).index))\n",
    "print(\"Number of duplicated records in twitter_enhanced_data = %d\" % twitter_enhanced_df.duplicated().sum())\n",
    "reply_count = len(twitter_enhanced_df[np.invert(twitter_enhanced_df['in_reply_to_status_id'].isnull())].index)\n",
    "print(\"Number of reply tweets = %d\" % reply_count)\n",
    "retweet_count = len(twitter_enhanced_df[np.invert(twitter_enhanced_df['retweeted_status_id'].isnull())].index)\n",
    "print(\"Number of retweets = %d\" % retweet_count)\n",
    "print(\"Number of records in twitter_enhanced_df excluding replies & retweets = %d\" % (twitter_df_count - reply_count - retweet_count))\n"
   ]
  },
  {
   "cell_type": "markdown",
   "metadata": {},
   "source": [
    "* All data values in `timestamp` field contain trailing `0000`. Also it is beneficial to define `timestamp` field as `datetime` datatype instead of string.\n",
    "* Reply and retweets need to be removed for this analysis."
   ]
  },
  {
   "cell_type": "code",
   "execution_count": 31,
   "metadata": {},
   "outputs": [
    {
     "data": {
      "image/png": "[encoded data removed]",
      "text/plain": [
       "<Figure size 1080x720 with 1 Axes>"
      ]
     },
     "metadata": {
      "needs_background": "light"
     },
     "output_type": "display_data"
    }
   ],
   "source": [
    "rating_numerator_df = \\\n",
    "ax = pd.DataFrame(twitter_enhanced_df.rating_numerator.value_counts())\\\n",
    ".reset_index()\\\n",
    ".rename(columns={'index': 'rating_numerator', 'rating_numerator': 'freq_count'})\\\n",
    ".sort_values(by=['rating_numerator'])[['rating_numerator', 'freq_count']]\\\n",
    ".set_index('rating_numerator')\\\n",
    ".plot\\\n",
    ".bar(figsize=(15,10),legend=True,fontsize=12, title='Frequency of rating_numerator');\n",
    "\n",
    "ax.set_ylabel(\"Number of times ratings_numerator occurs\", fontsize=12)\n",
    "ax.set_xlabel(\"Rating numerator\", fontsize=12);\n"
   ]
  },
  {
   "cell_type": "markdown",
   "metadata": {},
   "source": [
    "Above histogram shows that `rating_numerator` values \n",
    "* Have a long tail with some of them having very high value like 666, 960, 1776. These can be because of bug which analyzed the text field and parsed rating values\n",
    "* Majority of the dog pictures are rated between 0 - 14. "
   ]
  },
  {
   "cell_type": "code",
   "execution_count": 32,
   "metadata": {},
   "outputs": [
    {
     "data": {
      "text/html": [
       "<div>\n",
       "<style scoped>\n",
       "    .dataframe tbody tr th:only-of-type {\n",
       "        vertical-align: middle;\n",
       "    }\n",
       "\n",
       "    .dataframe tbody tr th {\n",
       "        vertical-align: top;\n",
       "    }\n",
       "\n",
       "    .dataframe thead th {\n",
       "        text-align: right;\n",
       "    }\n",
       "</style>\n",
       "<table border=\"1\" class=\"dataframe\">\n",
       "  <thead>\n",
       "    <tr style=\"text-align: right;\">\n",
       "      <th></th>\n",
       "      <th>freq_count</th>\n",
       "    </tr>\n",
       "    <tr>\n",
       "      <th>rating_denominator</th>\n",
       "      <th></th>\n",
       "    </tr>\n",
       "  </thead>\n",
       "  <tbody>\n",
       "    <tr>\n",
       "      <th>0</th>\n",
       "      <td>1</td>\n",
       "    </tr>\n",
       "    <tr>\n",
       "      <th>2</th>\n",
       "      <td>1</td>\n",
       "    </tr>\n",
       "    <tr>\n",
       "      <th>7</th>\n",
       "      <td>1</td>\n",
       "    </tr>\n",
       "    <tr>\n",
       "      <th>10</th>\n",
       "      <td>2333</td>\n",
       "    </tr>\n",
       "    <tr>\n",
       "      <th>11</th>\n",
       "      <td>3</td>\n",
       "    </tr>\n",
       "    <tr>\n",
       "      <th>15</th>\n",
       "      <td>1</td>\n",
       "    </tr>\n",
       "    <tr>\n",
       "      <th>16</th>\n",
       "      <td>1</td>\n",
       "    </tr>\n",
       "    <tr>\n",
       "      <th>20</th>\n",
       "      <td>2</td>\n",
       "    </tr>\n",
       "    <tr>\n",
       "      <th>40</th>\n",
       "      <td>1</td>\n",
       "    </tr>\n",
       "    <tr>\n",
       "      <th>50</th>\n",
       "      <td>3</td>\n",
       "    </tr>\n",
       "    <tr>\n",
       "      <th>70</th>\n",
       "      <td>1</td>\n",
       "    </tr>\n",
       "    <tr>\n",
       "      <th>80</th>\n",
       "      <td>2</td>\n",
       "    </tr>\n",
       "    <tr>\n",
       "      <th>90</th>\n",
       "      <td>1</td>\n",
       "    </tr>\n",
       "    <tr>\n",
       "      <th>110</th>\n",
       "      <td>1</td>\n",
       "    </tr>\n",
       "    <tr>\n",
       "      <th>120</th>\n",
       "      <td>1</td>\n",
       "    </tr>\n",
       "    <tr>\n",
       "      <th>130</th>\n",
       "      <td>1</td>\n",
       "    </tr>\n",
       "    <tr>\n",
       "      <th>150</th>\n",
       "      <td>1</td>\n",
       "    </tr>\n",
       "    <tr>\n",
       "      <th>170</th>\n",
       "      <td>1</td>\n",
       "    </tr>\n",
       "  </tbody>\n",
       "</table>\n",
       "</div>"
      ],
      "text/plain": [
       "                    freq_count\n",
       "rating_denominator            \n",
       "0                            1\n",
       "2                            1\n",
       "7                            1\n",
       "10                        2333\n",
       "11                           3\n",
       "15                           1\n",
       "16                           1\n",
       "20                           2\n",
       "40                           1\n",
       "50                           3\n",
       "70                           1\n",
       "80                           2\n",
       "90                           1\n",
       "110                          1\n",
       "120                          1\n",
       "130                          1\n",
       "150                          1\n",
       "170                          1"
      ]
     },
     "execution_count": 32,
     "metadata": {},
     "output_type": "execute_result"
    }
   ],
   "source": [
    "rating_denominator_df = \\\n",
    "pd.DataFrame(twitter_enhanced_df.rating_denominator.value_counts())\\\n",
    ".reset_index()\\\n",
    ".rename(columns={'index': 'rating_denominator', 'rating_denominator': 'freq_count'})\\\n",
    ".sort_values(by=['rating_denominator'])[['rating_denominator', 'freq_count']]\\\n",
    ".set_index('rating_denominator')\n",
    "rating_denominator_df"
   ]
  },
  {
   "cell_type": "code",
   "execution_count": 33,
   "metadata": {},
   "outputs": [
    {
     "data": {
      "image/png": "[encoded data removed]",
      "text/plain": [
       "<Figure size 1080x720 with 1 Axes>"
      ]
     },
     "metadata": {
      "needs_background": "light"
     },
     "output_type": "display_data"
    }
   ],
   "source": [
    "# Similar analysis is done for rating_denominator\n",
    "\n",
    "rating_denominator_df = \\\n",
    "ax = pd.DataFrame(twitter_enhanced_df.rating_denominator.value_counts())\\\n",
    ".reset_index()\\\n",
    ".rename(columns={'index': 'rating_denominator', 'rating_denominator': 'freq_count'})\\\n",
    ".sort_values(by=['rating_denominator'])[['rating_denominator', 'freq_count']]\\\n",
    ".set_index('rating_denominator')\\\n",
    ".plot\\\n",
    ".bar(figsize=(15,10),legend=True,fontsize=12, title='Frequency of rating_denominator');\n",
    "\n",
    "ax.set_ylabel(\"Number of times ratings_denominator occurs\", fontsize=12)\n",
    "ax.set_xlabel(\"Rating denominator\", fontsize=12);"
   ]
  },
  {
   "cell_type": "markdown",
   "metadata": {},
   "source": [
    "* In most cases `rating_denominator` value is 10\n",
    "* For a handful tweets, `rating_denominator` has values like 50, 60, 70 etc\n",
    "* `rating_numerator` or `rating_denominator` may not convey a lot of meaning as none of those values appear to be standardized. But the fraction `rating_numerator`/`rating_numerator` may be used for ranking dog breeds. \n",
    "\n",
    "Values found in rating_denominator is also recorded as an item in data cleanliness section"
   ]
  },
  {
   "cell_type": "code",
   "execution_count": 34,
   "metadata": {},
   "outputs": [
    {
     "name": "stdout",
     "output_type": "stream",
     "text": [
      "Number of tweets with multiple dog stages = 14\n"
     ]
    }
   ],
   "source": [
    "# Tweets specifying multiple dog stages in the same tweet\n",
    "query_str = [\n",
    "    \"(doggo != 'None' and (floofer != 'None' or puppo != 'None' or pupper != 'None'))\",\n",
    "    \"(floofer != 'None' and (doggo != 'None' or puppo != 'None' or pupper != 'None'))\",\n",
    "    \"(puppo != 'None' and (floofer != 'None' or doggo != 'None' or pupper != 'None'))\",\n",
    "    \"(pupper != 'None' and (floofer != 'None' or puppo != 'None' or doggo != 'None'))\"\n",
    "]\n",
    "\n",
    "multiple_dog_stage_df = twitter_enhanced_df.query(' or '.join(query_str))\n",
    "print(\"Number of tweets with multiple dog stages = %d\" % len(multiple_dog_stage_df.index))\n",
    "                                                         "
   ]
  },
  {
   "cell_type": "code",
   "execution_count": 35,
   "metadata": {},
   "outputs": [
    {
     "data": {
      "text/html": [
       "<div>\n",
       "<style scoped>\n",
       "    .dataframe tbody tr th:only-of-type {\n",
       "        vertical-align: middle;\n",
       "    }\n",
       "\n",
       "    .dataframe tbody tr th {\n",
       "        vertical-align: top;\n",
       "    }\n",
       "\n",
       "    .dataframe thead th {\n",
       "        text-align: right;\n",
       "    }\n",
       "</style>\n",
       "<table border=\"1\" class=\"dataframe\">\n",
       "  <thead>\n",
       "    <tr style=\"text-align: right;\">\n",
       "      <th></th>\n",
       "      <th>tweet_id</th>\n",
       "      <th>text</th>\n",
       "      <th>doggo</th>\n",
       "      <th>floofer</th>\n",
       "      <th>puppo</th>\n",
       "      <th>pupper</th>\n",
       "    </tr>\n",
       "  </thead>\n",
       "  <tbody>\n",
       "    <tr>\n",
       "      <th>191</th>\n",
       "      <td>855851453814013952</td>\n",
       "      <td>Here's a puppo participating in the #ScienceMarch. Cleverly disguising her own doggo agenda. 13/10 would keep the planet habitable for h...</td>\n",
       "      <td>doggo</td>\n",
       "      <td>None</td>\n",
       "      <td>puppo</td>\n",
       "      <td>None</td>\n",
       "    </tr>\n",
       "    <tr>\n",
       "      <th>778</th>\n",
       "      <td>775898661951791106</td>\n",
       "      <td>RT @dog_rates: Like father (doggo), like son (pupper). Both 12/10 https://t.co/pG2inLaOda</td>\n",
       "      <td>doggo</td>\n",
       "      <td>None</td>\n",
       "      <td>None</td>\n",
       "      <td>pupper</td>\n",
       "    </tr>\n",
       "    <tr>\n",
       "      <th>889</th>\n",
       "      <td>759793422261743616</td>\n",
       "      <td>Meet Maggie &amp;amp; Lila. Maggie is the doggo, Lila is the pupper. They are sisters. Both 12/10 would pet at the same time https://t.co/MY...</td>\n",
       "      <td>doggo</td>\n",
       "      <td>None</td>\n",
       "      <td>None</td>\n",
       "      <td>pupper</td>\n",
       "    </tr>\n",
       "    <tr>\n",
       "      <th>705</th>\n",
       "      <td>785639753186217984</td>\n",
       "      <td>This is Pinot. He's a sophisticated doggo. You can tell by the hat. Also pointier than your average pupper. Still 10/10 would pet cautio...</td>\n",
       "      <td>doggo</td>\n",
       "      <td>None</td>\n",
       "      <td>None</td>\n",
       "      <td>pupper</td>\n",
       "    </tr>\n",
       "    <tr>\n",
       "      <th>531</th>\n",
       "      <td>808106460588765185</td>\n",
       "      <td>Here we have Burke (pupper) and Dexter (doggo). Pupper wants to be exactly like doggo. Both 12/10 would pet at same time https://t.co/AN...</td>\n",
       "      <td>doggo</td>\n",
       "      <td>None</td>\n",
       "      <td>None</td>\n",
       "      <td>pupper</td>\n",
       "    </tr>\n",
       "  </tbody>\n",
       "</table>\n",
       "</div>"
      ],
      "text/plain": [
       "               tweet_id  \\\n",
       "191  855851453814013952   \n",
       "778  775898661951791106   \n",
       "889  759793422261743616   \n",
       "705  785639753186217984   \n",
       "531  808106460588765185   \n",
       "\n",
       "                                                                                                                                            text  \\\n",
       "191  Here's a puppo participating in the #ScienceMarch. Cleverly disguising her own doggo agenda. 13/10 would keep the planet habitable for h...   \n",
       "778                                                    RT @dog_rates: Like father (doggo), like son (pupper). Both 12/10 https://t.co/pG2inLaOda   \n",
       "889  Meet Maggie &amp; Lila. Maggie is the doggo, Lila is the pupper. They are sisters. Both 12/10 would pet at the same time https://t.co/MY...   \n",
       "705  This is Pinot. He's a sophisticated doggo. You can tell by the hat. Also pointier than your average pupper. Still 10/10 would pet cautio...   \n",
       "531  Here we have Burke (pupper) and Dexter (doggo). Pupper wants to be exactly like doggo. Both 12/10 would pet at same time https://t.co/AN...   \n",
       "\n",
       "     doggo floofer  puppo  pupper  \n",
       "191  doggo    None  puppo    None  \n",
       "778  doggo    None   None  pupper  \n",
       "889  doggo    None   None  pupper  \n",
       "705  doggo    None   None  pupper  \n",
       "531  doggo    None   None  pupper  "
      ]
     },
     "execution_count": 35,
     "metadata": {},
     "output_type": "execute_result"
    }
   ],
   "source": [
    "pd.options.display.max_colwidth = 140\n",
    "multiple_dog_stage_df[['tweet_id', 'text', 'doggo', 'floofer', 'puppo', 'pupper']].sample(5)"
   ]
  },
  {
   "cell_type": "code",
   "execution_count": 36,
   "metadata": {},
   "outputs": [
    {
     "data": {
      "text/html": [
       "<div>\n",
       "<style scoped>\n",
       "    .dataframe tbody tr th:only-of-type {\n",
       "        vertical-align: middle;\n",
       "    }\n",
       "\n",
       "    .dataframe tbody tr th {\n",
       "        vertical-align: top;\n",
       "    }\n",
       "\n",
       "    .dataframe thead th {\n",
       "        text-align: right;\n",
       "    }\n",
       "</style>\n",
       "<table border=\"1\" class=\"dataframe\">\n",
       "  <thead>\n",
       "    <tr style=\"text-align: right;\">\n",
       "      <th></th>\n",
       "      <th>tweet_id</th>\n",
       "      <th>in_reply_to_status_id</th>\n",
       "      <th>in_reply_to_user_id</th>\n",
       "      <th>timestamp</th>\n",
       "      <th>source</th>\n",
       "      <th>text</th>\n",
       "      <th>retweeted_status_id</th>\n",
       "      <th>retweeted_status_user_id</th>\n",
       "      <th>retweeted_status_timestamp</th>\n",
       "      <th>expanded_urls</th>\n",
       "      <th>rating_numerator</th>\n",
       "      <th>rating_denominator</th>\n",
       "      <th>name</th>\n",
       "      <th>doggo</th>\n",
       "      <th>floofer</th>\n",
       "      <th>pupper</th>\n",
       "      <th>puppo</th>\n",
       "    </tr>\n",
       "  </thead>\n",
       "  <tbody>\n",
       "    <tr>\n",
       "      <th>531</th>\n",
       "      <td>808106460588765185</td>\n",
       "      <td>NaN</td>\n",
       "      <td>NaN</td>\n",
       "      <td>2016-12-12 00:29:28 +0000</td>\n",
       "      <td>&lt;a href=\"http://twitter.com/download/iphone\" rel=\"nofollow\"&gt;Twitter for iPhone&lt;/a&gt;</td>\n",
       "      <td>Here we have Burke (pupper) and Dexter (doggo). Pupper wants to be exactly like doggo. Both 12/10 would pet at same time https://t.co/AN...</td>\n",
       "      <td>NaN</td>\n",
       "      <td>NaN</td>\n",
       "      <td>NaN</td>\n",
       "      <td>https://twitter.com/dog_rates/status/808106460588765185/photo/1</td>\n",
       "      <td>12</td>\n",
       "      <td>10</td>\n",
       "      <td>None</td>\n",
       "      <td>doggo</td>\n",
       "      <td>None</td>\n",
       "      <td>pupper</td>\n",
       "      <td>None</td>\n",
       "    </tr>\n",
       "  </tbody>\n",
       "</table>\n",
       "</div>"
      ],
      "text/plain": [
       "               tweet_id  in_reply_to_status_id  in_reply_to_user_id  \\\n",
       "531  808106460588765185                    NaN                  NaN   \n",
       "\n",
       "                     timestamp  \\\n",
       "531  2016-12-12 00:29:28 +0000   \n",
       "\n",
       "                                                                                 source  \\\n",
       "531  <a href=\"http://twitter.com/download/iphone\" rel=\"nofollow\">Twitter for iPhone</a>   \n",
       "\n",
       "                                                                                                                                            text  \\\n",
       "531  Here we have Burke (pupper) and Dexter (doggo). Pupper wants to be exactly like doggo. Both 12/10 would pet at same time https://t.co/AN...   \n",
       "\n",
       "     retweeted_status_id  retweeted_status_user_id retweeted_status_timestamp  \\\n",
       "531                  NaN                       NaN                        NaN   \n",
       "\n",
       "                                                       expanded_urls  \\\n",
       "531  https://twitter.com/dog_rates/status/808106460588765185/photo/1   \n",
       "\n",
       "     rating_numerator  rating_denominator  name  doggo floofer  pupper puppo  \n",
       "531                12                  10  None  doggo    None  pupper  None  "
      ]
     },
     "execution_count": 36,
     "metadata": {},
     "output_type": "execute_result"
    }
   ],
   "source": [
    "twitter_enhanced_df.query('tweet_id == 808106460588765185')"
   ]
  },
  {
   "cell_type": "markdown",
   "metadata": {},
   "source": [
    "Above tweet is an one example tweet which has reference to multiple dogs. \n"
   ]
  },
  {
   "cell_type": "code",
   "execution_count": 37,
   "metadata": {},
   "outputs": [],
   "source": [
    "'''\n",
    "Strip all characters are https url string\n",
    "'''\n",
    "def clean_text(str):\n",
    "    return re.sub(r'http://.*$', '', str)"
   ]
  },
  {
   "cell_type": "code",
   "execution_count": 38,
   "metadata": {},
   "outputs": [],
   "source": [
    "'''\n",
    "Finding dog stage from text\n",
    "'''\n",
    "def get_dog_stage(str):\n",
    "    cleaned_str = clean_text(str)\n",
    "    m = re.findall(r'\\W+(doggo|floofer|pupper|puppo)\\W+', str, re.I)\n",
    "    if len(m) > 0: \n",
    "        return m[0]\n",
    "    else:\n",
    "        None\n",
    "    \n",
    "twitter_enhanced_df['derived_dog_stage'] = twitter_enhanced_df.text.apply(lambda x: get_dog_stage(x))\n"
   ]
  },
  {
   "cell_type": "code",
   "execution_count": 39,
   "metadata": {},
   "outputs": [
    {
     "name": "stdout",
     "output_type": "stream",
     "text": [
      "Records with derived dog stage = 376\n",
      "Records with given dog stage(s) = 380\n"
     ]
    }
   ],
   "source": [
    "print(\"Records with derived dog stage = %d\" % len(twitter_enhanced_df[['tweet_id', 'text', 'doggo', 'floofer', 'puppo', 'pupper', 'derived_dog_stage']]\\\n",
    ".query(\"derived_dog_stage == derived_dog_stage\").index))\n",
    "\n",
    "print(\"Records with given dog stage(s) = %d\" % len(twitter_enhanced_df[['tweet_id', 'text', 'doggo', 'floofer', 'puppo', 'pupper', 'derived_dog_stage']]\\\n",
    ".query(\"doggo != 'None' or floofer != 'None' or puppo != 'None' or pupper != 'None'\")\\\n",
    ".index))\n",
    "       "
   ]
  },
  {
   "cell_type": "markdown",
   "metadata": {},
   "source": [
    "Above analysis shows that the given classification of dog stage didn't miss out identifying it if it appeared somewhere in the tweet text."
   ]
  },
  {
   "cell_type": "code",
   "execution_count": 40,
   "metadata": {},
   "outputs": [],
   "source": [
    "'''\n",
    "Get rating numerator & denominator from text using regular expression\n",
    "'''\n",
    "def parse_ratings(str):\n",
    "    cleaned_str = clean_text(str)\n",
    "    m = re.search(r'.*?(\\d+\\.?\\d*)\\s*/\\s*(\\d+\\.?\\d*)', cleaned_str)\n",
    "\n",
    "    if m is not None:\n",
    "        return m.group(1), m.group(2)\n",
    "    else:\n",
    "        return None, None\n",
    "    "
   ]
  },
  {
   "cell_type": "code",
   "execution_count": 41,
   "metadata": {},
   "outputs": [],
   "source": [
    "# Add two new fields to the dataframe \n",
    "twitter_enhanced_df['rating_num'], twitter_enhanced_df['rating_den'] = zip(*twitter_enhanced_df['text'].map(parse_ratings))\n",
    "\n",
    "# Convert ratings fields to float data type\n",
    "for col in ['rating_numerator', 'rating_denominator', 'rating_num', 'rating_den']:\n",
    "    twitter_enhanced_df[col] = twitter_enhanced_df[col].apply(lambda x: float(x))"
   ]
  },
  {
   "cell_type": "code",
   "execution_count": 42,
   "metadata": {},
   "outputs": [
    {
     "data": {
      "text/html": [
       "<div>\n",
       "<style scoped>\n",
       "    .dataframe tbody tr th:only-of-type {\n",
       "        vertical-align: middle;\n",
       "    }\n",
       "\n",
       "    .dataframe tbody tr th {\n",
       "        vertical-align: top;\n",
       "    }\n",
       "\n",
       "    .dataframe thead th {\n",
       "        text-align: right;\n",
       "    }\n",
       "</style>\n",
       "<table border=\"1\" class=\"dataframe\">\n",
       "  <thead>\n",
       "    <tr style=\"text-align: right;\">\n",
       "      <th></th>\n",
       "      <th>tweet_id</th>\n",
       "      <th>text</th>\n",
       "      <th>rating_numerator</th>\n",
       "      <th>rating_denominator</th>\n",
       "      <th>rating_num</th>\n",
       "      <th>rating_den</th>\n",
       "    </tr>\n",
       "  </thead>\n",
       "  <tbody>\n",
       "    <tr>\n",
       "      <th>45</th>\n",
       "      <td>883482846933004288</td>\n",
       "      <td>This is Bella. She hopes her smile made you smile. If not, she is also offering you her favorite monkey. 13.5/10 https://t.co/qjrljjt948</td>\n",
       "      <td>5.0</td>\n",
       "      <td>10.0</td>\n",
       "      <td>13.50</td>\n",
       "      <td>10.0</td>\n",
       "    </tr>\n",
       "    <tr>\n",
       "      <th>340</th>\n",
       "      <td>832215909146226688</td>\n",
       "      <td>RT @dog_rates: This is Logan, the Chow who lived. He solemnly swears he's up to lots of good. H*ckin magical af 9.75/10 https://t.co/yBO...</td>\n",
       "      <td>75.0</td>\n",
       "      <td>10.0</td>\n",
       "      <td>9.75</td>\n",
       "      <td>10.0</td>\n",
       "    </tr>\n",
       "    <tr>\n",
       "      <th>695</th>\n",
       "      <td>786709082849828864</td>\n",
       "      <td>This is Logan, the Chow who lived. He solemnly swears he's up to lots of good. H*ckin magical af 9.75/10 https://t.co/yBO5wuqaPS</td>\n",
       "      <td>75.0</td>\n",
       "      <td>10.0</td>\n",
       "      <td>9.75</td>\n",
       "      <td>10.0</td>\n",
       "    </tr>\n",
       "    <tr>\n",
       "      <th>763</th>\n",
       "      <td>778027034220126208</td>\n",
       "      <td>This is Sophie. She's a Jubilant Bush Pupper. Super h*ckin rare. Appears at random just to smile at the locals. 11.27/10 would smile bac...</td>\n",
       "      <td>27.0</td>\n",
       "      <td>10.0</td>\n",
       "      <td>11.27</td>\n",
       "      <td>10.0</td>\n",
       "    </tr>\n",
       "    <tr>\n",
       "      <th>1689</th>\n",
       "      <td>681340665377193984</td>\n",
       "      <td>I've been told there's a slight possibility he's checking his mirror. We'll bump to 9.5/10. Still a menace</td>\n",
       "      <td>5.0</td>\n",
       "      <td>10.0</td>\n",
       "      <td>9.50</td>\n",
       "      <td>10.0</td>\n",
       "    </tr>\n",
       "    <tr>\n",
       "      <th>1712</th>\n",
       "      <td>680494726643068929</td>\n",
       "      <td>Here we have uncovered an entire battalion of holiday puppers. Average of 11.26/10 https://t.co/eNm2S6p9BD</td>\n",
       "      <td>26.0</td>\n",
       "      <td>10.0</td>\n",
       "      <td>11.26</td>\n",
       "      <td>10.0</td>\n",
       "    </tr>\n",
       "  </tbody>\n",
       "</table>\n",
       "</div>"
      ],
      "text/plain": [
       "                tweet_id  \\\n",
       "45    883482846933004288   \n",
       "340   832215909146226688   \n",
       "695   786709082849828864   \n",
       "763   778027034220126208   \n",
       "1689  681340665377193984   \n",
       "1712  680494726643068929   \n",
       "\n",
       "                                                                                                                                             text  \\\n",
       "45       This is Bella. She hopes her smile made you smile. If not, she is also offering you her favorite monkey. 13.5/10 https://t.co/qjrljjt948   \n",
       "340   RT @dog_rates: This is Logan, the Chow who lived. He solemnly swears he's up to lots of good. H*ckin magical af 9.75/10 https://t.co/yBO...   \n",
       "695              This is Logan, the Chow who lived. He solemnly swears he's up to lots of good. H*ckin magical af 9.75/10 https://t.co/yBO5wuqaPS   \n",
       "763   This is Sophie. She's a Jubilant Bush Pupper. Super h*ckin rare. Appears at random just to smile at the locals. 11.27/10 would smile bac...   \n",
       "1689                                   I've been told there's a slight possibility he's checking his mirror. We'll bump to 9.5/10. Still a menace   \n",
       "1712                                   Here we have uncovered an entire battalion of holiday puppers. Average of 11.26/10 https://t.co/eNm2S6p9BD   \n",
       "\n",
       "      rating_numerator  rating_denominator  rating_num  rating_den  \n",
       "45                 5.0                10.0       13.50        10.0  \n",
       "340               75.0                10.0        9.75        10.0  \n",
       "695               75.0                10.0        9.75        10.0  \n",
       "763               27.0                10.0       11.27        10.0  \n",
       "1689               5.0                10.0        9.50        10.0  \n",
       "1712              26.0                10.0       11.26        10.0  "
      ]
     },
     "execution_count": 42,
     "metadata": {},
     "output_type": "execute_result"
    }
   ],
   "source": [
    "# Match whether given rating fields match with parsed rating values from text fields\n",
    "twitter_enhanced_df.query(\"rating_numerator != rating_num or rating_denominator != rating_den\")\\\n",
    "[['tweet_id', 'text', 'rating_numerator', 'rating_denominator', 'rating_num', 'rating_den']]\n"
   ]
  },
  {
   "cell_type": "code",
   "execution_count": 43,
   "metadata": {},
   "outputs": [
    {
     "name": "stdout",
     "output_type": "stream",
     "text": [
      "<class 'pandas.core.frame.DataFrame'>\n",
      "RangeIndex: 2356 entries, 0 to 2355\n",
      "Data columns (total 20 columns):\n",
      "tweet_id                      2356 non-null int64\n",
      "in_reply_to_status_id         78 non-null float64\n",
      "in_reply_to_user_id           78 non-null float64\n",
      "timestamp                     2356 non-null object\n",
      "source                        2356 non-null object\n",
      "text                          2356 non-null object\n",
      "retweeted_status_id           181 non-null float64\n",
      "retweeted_status_user_id      181 non-null float64\n",
      "retweeted_status_timestamp    181 non-null object\n",
      "expanded_urls                 2297 non-null object\n",
      "rating_numerator              2356 non-null float64\n",
      "rating_denominator            2356 non-null float64\n",
      "name                          2356 non-null object\n",
      "doggo                         2356 non-null object\n",
      "floofer                       2356 non-null object\n",
      "pupper                        2356 non-null object\n",
      "puppo                         2356 non-null object\n",
      "derived_dog_stage             376 non-null object\n",
      "rating_num                    2356 non-null float64\n",
      "rating_den                    2356 non-null float64\n",
      "dtypes: float64(8), int64(1), object(11)\n",
      "memory usage: 368.2+ KB\n"
     ]
    }
   ],
   "source": [
    "twitter_enhanced_df.info()"
   ]
  },
  {
   "cell_type": "markdown",
   "metadata": {},
   "source": [
    "Observation from above is: \n",
    "\n",
    "* `rating_numerator` and `rating_denominator` field values are mostly correct except in cases where given rating was a floating point number e.g. 13.5/10 for tweet ID = 883482846933004288 Instead of `numerator = 13.5` and `denomintaor=10.0` the given data file misidentified as `5/10` This is noted as a data cleanliness issue"
   ]
  },
  {
   "cell_type": "markdown",
   "metadata": {},
   "source": [
    "I plan to use the metric `rating_numerator / rating_denominator` for ranking dog breed and dog stages. For that to work correctly I need to check that `rating_denominator != 0`. In such a line is found, that line needs to be removed from final daatset."
   ]
  },
  {
   "cell_type": "code",
   "execution_count": 44,
   "metadata": {},
   "outputs": [
    {
     "data": {
      "text/html": [
       "<div>\n",
       "<style scoped>\n",
       "    .dataframe tbody tr th:only-of-type {\n",
       "        vertical-align: middle;\n",
       "    }\n",
       "\n",
       "    .dataframe tbody tr th {\n",
       "        vertical-align: top;\n",
       "    }\n",
       "\n",
       "    .dataframe thead th {\n",
       "        text-align: right;\n",
       "    }\n",
       "</style>\n",
       "<table border=\"1\" class=\"dataframe\">\n",
       "  <thead>\n",
       "    <tr style=\"text-align: right;\">\n",
       "      <th></th>\n",
       "      <th>tweet_id</th>\n",
       "      <th>in_reply_to_status_id</th>\n",
       "      <th>in_reply_to_user_id</th>\n",
       "      <th>timestamp</th>\n",
       "      <th>source</th>\n",
       "      <th>text</th>\n",
       "      <th>retweeted_status_id</th>\n",
       "      <th>retweeted_status_user_id</th>\n",
       "      <th>retweeted_status_timestamp</th>\n",
       "      <th>expanded_urls</th>\n",
       "      <th>rating_numerator</th>\n",
       "      <th>rating_denominator</th>\n",
       "      <th>name</th>\n",
       "      <th>doggo</th>\n",
       "      <th>floofer</th>\n",
       "      <th>pupper</th>\n",
       "      <th>puppo</th>\n",
       "      <th>derived_dog_stage</th>\n",
       "      <th>rating_num</th>\n",
       "      <th>rating_den</th>\n",
       "    </tr>\n",
       "  </thead>\n",
       "  <tbody>\n",
       "    <tr>\n",
       "      <th>313</th>\n",
       "      <td>835246439529840640</td>\n",
       "      <td>8.352460e+17</td>\n",
       "      <td>26259576.0</td>\n",
       "      <td>2017-02-24 21:54:03 +0000</td>\n",
       "      <td>&lt;a href=\"http://twitter.com/download/iphone\" rel=\"nofollow\"&gt;Twitter for iPhone&lt;/a&gt;</td>\n",
       "      <td>@jonnysun @Lin_Manuel ok jomny I know you're excited but 960/00 isn't a valid rating, 13/10 is tho</td>\n",
       "      <td>NaN</td>\n",
       "      <td>NaN</td>\n",
       "      <td>NaN</td>\n",
       "      <td>NaN</td>\n",
       "      <td>960.0</td>\n",
       "      <td>0.0</td>\n",
       "      <td>None</td>\n",
       "      <td>None</td>\n",
       "      <td>None</td>\n",
       "      <td>None</td>\n",
       "      <td>None</td>\n",
       "      <td>None</td>\n",
       "      <td>960.0</td>\n",
       "      <td>0.0</td>\n",
       "    </tr>\n",
       "  </tbody>\n",
       "</table>\n",
       "</div>"
      ],
      "text/plain": [
       "               tweet_id  in_reply_to_status_id  in_reply_to_user_id  \\\n",
       "313  835246439529840640           8.352460e+17           26259576.0   \n",
       "\n",
       "                     timestamp  \\\n",
       "313  2017-02-24 21:54:03 +0000   \n",
       "\n",
       "                                                                                 source  \\\n",
       "313  <a href=\"http://twitter.com/download/iphone\" rel=\"nofollow\">Twitter for iPhone</a>   \n",
       "\n",
       "                                                                                                   text  \\\n",
       "313  @jonnysun @Lin_Manuel ok jomny I know you're excited but 960/00 isn't a valid rating, 13/10 is tho   \n",
       "\n",
       "     retweeted_status_id  retweeted_status_user_id retweeted_status_timestamp  \\\n",
       "313                  NaN                       NaN                        NaN   \n",
       "\n",
       "    expanded_urls  rating_numerator  rating_denominator  name doggo floofer  \\\n",
       "313           NaN             960.0                 0.0  None  None    None   \n",
       "\n",
       "    pupper puppo derived_dog_stage  rating_num  rating_den  \n",
       "313   None  None              None       960.0         0.0  "
      ]
     },
     "execution_count": 44,
     "metadata": {},
     "output_type": "execute_result"
    }
   ],
   "source": [
    "# Checking if rating_denominator is zero for any tweet\n",
    "twitter_enhanced_df.query(\"rating_denominator == 0\")"
   ]
  },
  {
   "cell_type": "markdown",
   "metadata": {},
   "source": [
    "There is one such record. Tweet ID = 835246439529840640 This needs to be removed from final dataset. Removal of this tweet may serve as removing an outlier in `rating_numerator`"
   ]
  },
  {
   "cell_type": "markdown",
   "metadata": {},
   "source": [
    "Cleanliness of `twitter_enhanced_df`\n",
    "* timestamp column values should not have trailing +00000\n",
    "* `source` can't used for data analysis purpose as it contains html text with \"a href\" string\n",
    "* Some records correspond to retweet. They need to be removed.\n",
    "* Some records correspond to replies. They need to be removed\n",
    "* For few records `rating_numerator` & `ratings denominator` contain incorrect rating values. These happened for where the ratings numerator or denominator in original text had floating point numbers.   \n",
    "* `rating_denominator` is zero for tweet ID = 835246439529840640. That needs to be removed.\n",
    "* As noted during visual analysis, some values in `name` appear to be dirty. \n",
    "* There are tweets with multiple dog stages for a single dog e.g. doggo & pupper\n",
    "\n"
   ]
  },
  {
   "cell_type": "markdown",
   "metadata": {},
   "source": [
    "Structural issue in `twitter_enhanced_df`\n",
    "- timestamp column should be a `datetime` field instead of string so it can be used for analysis\n",
    "- rating fields need to be float to accomodate decimal values for ratings\n",
    "- Instead of having 4 columns for classification of dogs based on dogtionary, it is useful to have a column named `dog_type` and maintain categorical values there.\n",
    "- I started with 3 data sources. Two of which are downloaded using Python `requests` object while the third one is downloaded using API calls. I had built three dataframes - each for one source. For analysis purpose, it will be beneficial to have a single dataframe having tweet ID, tweet timestamp, dog ratings, dog classification and dog identification information\n"
   ]
  },
  {
   "cell_type": "code",
   "execution_count": 45,
   "metadata": {},
   "outputs": [
    {
     "name": "stdout",
     "output_type": "stream",
     "text": [
      "<class 'pandas.core.frame.DataFrame'>\n",
      "RangeIndex: 2075 entries, 0 to 2074\n",
      "Data columns (total 12 columns):\n",
      "tweet_id    2075 non-null int64\n",
      "jpg_url     2075 non-null object\n",
      "img_num     2075 non-null int64\n",
      "p1          2075 non-null object\n",
      "p1_conf     2075 non-null float64\n",
      "p1_dog      2075 non-null bool\n",
      "p2          2075 non-null object\n",
      "p2_conf     2075 non-null float64\n",
      "p2_dog      2075 non-null bool\n",
      "p3          2075 non-null object\n",
      "p3_conf     2075 non-null float64\n",
      "p3_dog      2075 non-null bool\n",
      "dtypes: bool(3), float64(3), int64(2), object(4)\n",
      "memory usage: 152.1+ KB\n"
     ]
    }
   ],
   "source": [
    "prediction_df.info()"
   ]
  },
  {
   "cell_type": "markdown",
   "metadata": {},
   "source": [
    "Cleanliness of `prediction_df`\n",
    "\n",
    "* Some entries refer to pictures other than dogs.\n",
    "* This dataframe does not have picture of all dog related tweets in `twitter_enhanced_df`"
   ]
  },
  {
   "cell_type": "markdown",
   "metadata": {},
   "source": [
    "Structural issue in `prediction_df`\n",
    "\n",
    "* It may be easier to deal with only one dog classification based on highest confidence rating\n",
    "* For analysis purpose, it will be beneficial to have a single dataframe having combining `prediction_df` and `twitter_enhanced_df`"
   ]
  },
  {
   "cell_type": "code",
   "execution_count": 46,
   "metadata": {},
   "outputs": [
    {
     "name": "stdout",
     "output_type": "stream",
     "text": [
      "<class 'pandas.core.frame.DataFrame'>\n",
      "RangeIndex: 2340 entries, 0 to 2339\n",
      "Data columns (total 5 columns):\n",
      "favorite_count     2340 non-null int64\n",
      "followers_count    2340 non-null int64\n",
      "retweet_count      2340 non-null int64\n",
      "source             2340 non-null object\n",
      "tweet_id           2340 non-null int64\n",
      "dtypes: int64(4), object(1)\n",
      "memory usage: 91.5+ KB\n"
     ]
    }
   ],
   "source": [
    "tweet_data_df.info()"
   ]
  },
  {
   "cell_type": "markdown",
   "metadata": {},
   "source": [
    "Structural issue in tweet_data_df\n",
    "\n",
    "* This dataframe needs to be combined with other two dataframe before the final analysis"
   ]
  },
  {
   "cell_type": "markdown",
   "metadata": {},
   "source": [
    "Summary of issues:\n",
    "\n",
    "* Cleanliness Issue\n",
    "    - timestamp column values should not have trailing +00000\n",
    "    - `source` can't used for data analysis purpose as it contains html text with \"a href\" string\n",
    "    - Some records correspond to retweet. They need to be removed.\n",
    "    - Some records correspond to replies. They need to be removed.\n",
    "    - Not all tweets have related dog picture or some tweets have objects other than dog.\n",
    "    - For few records rating_numerator & ratings denominator contain incorrect rating values. These happened for where the ratings numerator or denominator in original text had floating point numbers. \n",
    "    - `rating_denominator` is zero for tweet ID = 835246439529840640. That needs to be removed.\n",
    "    - `ratings_numerator` contains incorrect value specially when the text containing the rating uses floating point number for ratings\n",
    "    - There are tweets with multiple dog stages for a single dog e.g. doggo & pupper\n",
    "    \n",
    "* Structural Issue\n",
    "    - All three dataframes need to be combined together for ease of analysis\n",
    "    - Use only one dog classification form `prediction_df` with highest confidence value\n",
    "    - Change `timestamp` column in `twitter_enhanced_df` to datetime data type\n",
    "    - Change `rating` fields in `twitter_enhanced_df` to float data type\n",
    "    - Instead of 4 `dog_stage` fields in `twitter_enhanced_df`, use only one column for categorical values\n",
    "    \n",
    "    "
   ]
  },
  {
   "cell_type": "markdown",
   "metadata": {},
   "source": [
    "## Cleaning"
   ]
  },
  {
   "cell_type": "code",
   "execution_count": 47,
   "metadata": {},
   "outputs": [],
   "source": [
    "twitter_enhanced_df.drop(['derived_dog_stage'], axis=1, inplace=True)\n",
    "# Copy into a new data frame\n",
    "cleaned_twitter_df = twitter_enhanced_df.copy()"
   ]
  },
  {
   "cell_type": "markdown",
   "metadata": {},
   "source": [
    "### Issue\n",
    "\n",
    "<b>Trailing `0000` in `timestamp` field in `twitter_enhanced_df` </b>\n",
    "\n",
    "### Action\n",
    "\n",
    "Remove `0000` from timestamp field"
   ]
  },
  {
   "cell_type": "markdown",
   "metadata": {},
   "source": [
    "### Code"
   ]
  },
  {
   "cell_type": "code",
   "execution_count": 48,
   "metadata": {},
   "outputs": [
    {
     "data": {
      "text/plain": [
       "0    2017-08-01 16:23:56 +0000\n",
       "1    2017-08-01 00:17:27 +0000\n",
       "2    2017-07-31 00:18:03 +0000\n",
       "3    2017-07-30 15:58:51 +0000\n",
       "4    2017-07-29 16:00:24 +0000\n",
       "Name: timestamp, dtype: object"
      ]
     },
     "execution_count": 48,
     "metadata": {},
     "output_type": "execute_result"
    }
   ],
   "source": [
    "cleaned_twitter_df.timestamp.head()"
   ]
  },
  {
   "cell_type": "code",
   "execution_count": 49,
   "metadata": {},
   "outputs": [
    {
     "data": {
      "text/plain": [
       "2356"
      ]
     },
     "execution_count": 49,
     "metadata": {},
     "output_type": "execute_result"
    }
   ],
   "source": [
    "cleaned_twitter_df.timestamp.str.endswith('+0000').sum()"
   ]
  },
  {
   "cell_type": "code",
   "execution_count": 50,
   "metadata": {},
   "outputs": [],
   "source": [
    "cleaned_twitter_df['timestamp'] = cleaned_twitter_df.timestamp.apply(lambda x: re.sub(r'\\s+\\+0000', '', x))"
   ]
  },
  {
   "cell_type": "markdown",
   "metadata": {},
   "source": [
    "### Test"
   ]
  },
  {
   "cell_type": "code",
   "execution_count": 51,
   "metadata": {},
   "outputs": [
    {
     "name": "stdout",
     "output_type": "stream",
     "text": [
      "Number of records with trailing 0000 in timestamp field = 0\n"
     ]
    }
   ],
   "source": [
    "print(\"Number of records with trailing 0000 in timestamp field = %d\" % \n",
    "      cleaned_twitter_df.timestamp.str.endswith('+0000').sum())"
   ]
  },
  {
   "cell_type": "markdown",
   "metadata": {},
   "source": [
    "### Issue\n",
    "\n",
    "<b>There is one tweet having`rating_denominator=0` </b>\n",
    "\n",
    "### Action\n",
    "\n",
    "Remove that record from final dataframe"
   ]
  },
  {
   "cell_type": "markdown",
   "metadata": {},
   "source": [
    "### Code"
   ]
  },
  {
   "cell_type": "code",
   "execution_count": 52,
   "metadata": {},
   "outputs": [],
   "source": [
    "# Delete the tweet having rating_denominator = 0\n",
    "cleaned_twitter_df = cleaned_twitter_df.drop(cleaned_twitter_df.query(\"rating_denominator == 0\").index, axis=0)\n"
   ]
  },
  {
   "cell_type": "markdown",
   "metadata": {},
   "source": [
    "### Test"
   ]
  },
  {
   "cell_type": "code",
   "execution_count": 53,
   "metadata": {},
   "outputs": [
    {
     "name": "stdout",
     "output_type": "stream",
     "text": [
      "Number of tweet with zero as rating_denominator = 0\n"
     ]
    }
   ],
   "source": [
    "print(\"Number of tweet with zero as rating_denominator = %d\" \\\n",
    "      % len(cleaned_twitter_df.query(\"rating_denominator == 0\").index))"
   ]
  },
  {
   "cell_type": "markdown",
   "metadata": {},
   "source": [
    "### Issue\n",
    "\n",
    "<b>`rating_numerator` values are incorrect when tweet text uses floating point numbers </b>\n",
    "\n",
    "### Action\n",
    "\n",
    "Parse rating from text. Fix numerator and denominator values."
   ]
  },
  {
   "cell_type": "markdown",
   "metadata": {},
   "source": [
    "### Code"
   ]
  },
  {
   "cell_type": "code",
   "execution_count": 54,
   "metadata": {},
   "outputs": [],
   "source": [
    "def compute_rating(row):\n",
    "    if row['rating_num'] is not None and row['rating_den'] is not None:\n",
    "        return row['rating_num'] / row['rating_den']\n",
    "    else:\n",
    "        return None"
   ]
  },
  {
   "cell_type": "code",
   "execution_count": 55,
   "metadata": {},
   "outputs": [],
   "source": [
    "cleaned_twitter_df['rating'] = cleaned_twitter_df.apply(lambda row: compute_rating(row), axis=1)\n"
   ]
  },
  {
   "cell_type": "markdown",
   "metadata": {},
   "source": [
    "### Test"
   ]
  },
  {
   "cell_type": "code",
   "execution_count": 56,
   "metadata": {},
   "outputs": [
    {
     "name": "stdout",
     "output_type": "stream",
     "text": [
      "<class 'pandas.core.frame.DataFrame'>\n",
      "Int64Index: 2355 entries, 0 to 2355\n",
      "Data columns (total 20 columns):\n",
      "tweet_id                      2355 non-null int64\n",
      "in_reply_to_status_id         77 non-null float64\n",
      "in_reply_to_user_id           77 non-null float64\n",
      "timestamp                     2355 non-null object\n",
      "source                        2355 non-null object\n",
      "text                          2355 non-null object\n",
      "retweeted_status_id           181 non-null float64\n",
      "retweeted_status_user_id      181 non-null float64\n",
      "retweeted_status_timestamp    181 non-null object\n",
      "expanded_urls                 2297 non-null object\n",
      "rating_numerator              2355 non-null float64\n",
      "rating_denominator            2355 non-null float64\n",
      "name                          2355 non-null object\n",
      "doggo                         2355 non-null object\n",
      "floofer                       2355 non-null object\n",
      "pupper                        2355 non-null object\n",
      "puppo                         2355 non-null object\n",
      "rating_num                    2355 non-null float64\n",
      "rating_den                    2355 non-null float64\n",
      "rating                        2355 non-null float64\n",
      "dtypes: float64(9), int64(1), object(10)\n",
      "memory usage: 386.4+ KB\n"
     ]
    }
   ],
   "source": [
    "cleaned_twitter_df.info()"
   ]
  },
  {
   "cell_type": "code",
   "execution_count": 57,
   "metadata": {},
   "outputs": [
    {
     "name": "stdout",
     "output_type": "stream",
     "text": [
      "Number of tweets in which newly computed ratings don't match with given ratings = 6\n"
     ]
    }
   ],
   "source": [
    "rating_df = cleaned_twitter_df.query(\"rating_numerator != rating_num or rating_denominator != rating_den\")\n",
    "print(\"Number of tweets in which newly computed ratings don't match with given ratings = %d\" % len(rating_df.index))\n"
   ]
  },
  {
   "cell_type": "code",
   "execution_count": 58,
   "metadata": {},
   "outputs": [
    {
     "data": {
      "text/html": [
       "<div>\n",
       "<style scoped>\n",
       "    .dataframe tbody tr th:only-of-type {\n",
       "        vertical-align: middle;\n",
       "    }\n",
       "\n",
       "    .dataframe tbody tr th {\n",
       "        vertical-align: top;\n",
       "    }\n",
       "\n",
       "    .dataframe thead th {\n",
       "        text-align: right;\n",
       "    }\n",
       "</style>\n",
       "<table border=\"1\" class=\"dataframe\">\n",
       "  <thead>\n",
       "    <tr style=\"text-align: right;\">\n",
       "      <th></th>\n",
       "      <th>tweet_id</th>\n",
       "      <th>text</th>\n",
       "      <th>rating_numerator</th>\n",
       "      <th>rating_denominator</th>\n",
       "      <th>rating_num</th>\n",
       "      <th>rating_den</th>\n",
       "    </tr>\n",
       "  </thead>\n",
       "  <tbody>\n",
       "    <tr>\n",
       "      <th>45</th>\n",
       "      <td>883482846933004288</td>\n",
       "      <td>This is Bella. She hopes her smile made you smile. If not, she is also offering you her favorite monkey. 13.5/10 https://t.co/qjrljjt948</td>\n",
       "      <td>5.0</td>\n",
       "      <td>10.0</td>\n",
       "      <td>13.50</td>\n",
       "      <td>10.0</td>\n",
       "    </tr>\n",
       "    <tr>\n",
       "      <th>340</th>\n",
       "      <td>832215909146226688</td>\n",
       "      <td>RT @dog_rates: This is Logan, the Chow who lived. He solemnly swears he's up to lots of good. H*ckin magical af 9.75/10 https://t.co/yBO...</td>\n",
       "      <td>75.0</td>\n",
       "      <td>10.0</td>\n",
       "      <td>9.75</td>\n",
       "      <td>10.0</td>\n",
       "    </tr>\n",
       "    <tr>\n",
       "      <th>695</th>\n",
       "      <td>786709082849828864</td>\n",
       "      <td>This is Logan, the Chow who lived. He solemnly swears he's up to lots of good. H*ckin magical af 9.75/10 https://t.co/yBO5wuqaPS</td>\n",
       "      <td>75.0</td>\n",
       "      <td>10.0</td>\n",
       "      <td>9.75</td>\n",
       "      <td>10.0</td>\n",
       "    </tr>\n",
       "    <tr>\n",
       "      <th>763</th>\n",
       "      <td>778027034220126208</td>\n",
       "      <td>This is Sophie. She's a Jubilant Bush Pupper. Super h*ckin rare. Appears at random just to smile at the locals. 11.27/10 would smile bac...</td>\n",
       "      <td>27.0</td>\n",
       "      <td>10.0</td>\n",
       "      <td>11.27</td>\n",
       "      <td>10.0</td>\n",
       "    </tr>\n",
       "    <tr>\n",
       "      <th>1689</th>\n",
       "      <td>681340665377193984</td>\n",
       "      <td>I've been told there's a slight possibility he's checking his mirror. We'll bump to 9.5/10. Still a menace</td>\n",
       "      <td>5.0</td>\n",
       "      <td>10.0</td>\n",
       "      <td>9.50</td>\n",
       "      <td>10.0</td>\n",
       "    </tr>\n",
       "    <tr>\n",
       "      <th>1712</th>\n",
       "      <td>680494726643068929</td>\n",
       "      <td>Here we have uncovered an entire battalion of holiday puppers. Average of 11.26/10 https://t.co/eNm2S6p9BD</td>\n",
       "      <td>26.0</td>\n",
       "      <td>10.0</td>\n",
       "      <td>11.26</td>\n",
       "      <td>10.0</td>\n",
       "    </tr>\n",
       "  </tbody>\n",
       "</table>\n",
       "</div>"
      ],
      "text/plain": [
       "                tweet_id  \\\n",
       "45    883482846933004288   \n",
       "340   832215909146226688   \n",
       "695   786709082849828864   \n",
       "763   778027034220126208   \n",
       "1689  681340665377193984   \n",
       "1712  680494726643068929   \n",
       "\n",
       "                                                                                                                                             text  \\\n",
       "45       This is Bella. She hopes her smile made you smile. If not, she is also offering you her favorite monkey. 13.5/10 https://t.co/qjrljjt948   \n",
       "340   RT @dog_rates: This is Logan, the Chow who lived. He solemnly swears he's up to lots of good. H*ckin magical af 9.75/10 https://t.co/yBO...   \n",
       "695              This is Logan, the Chow who lived. He solemnly swears he's up to lots of good. H*ckin magical af 9.75/10 https://t.co/yBO5wuqaPS   \n",
       "763   This is Sophie. She's a Jubilant Bush Pupper. Super h*ckin rare. Appears at random just to smile at the locals. 11.27/10 would smile bac...   \n",
       "1689                                   I've been told there's a slight possibility he's checking his mirror. We'll bump to 9.5/10. Still a menace   \n",
       "1712                                   Here we have uncovered an entire battalion of holiday puppers. Average of 11.26/10 https://t.co/eNm2S6p9BD   \n",
       "\n",
       "      rating_numerator  rating_denominator  rating_num  rating_den  \n",
       "45                 5.0                10.0       13.50        10.0  \n",
       "340               75.0                10.0        9.75        10.0  \n",
       "695               75.0                10.0        9.75        10.0  \n",
       "763               27.0                10.0       11.27        10.0  \n",
       "1689               5.0                10.0        9.50        10.0  \n",
       "1712              26.0                10.0       11.26        10.0  "
      ]
     },
     "execution_count": 58,
     "metadata": {},
     "output_type": "execute_result"
    }
   ],
   "source": [
    "# Visual assessment of these records shows rating_num & rating_den are computed correctly\n",
    "rating_df[['tweet_id', 'text', 'rating_numerator', 'rating_denominator', 'rating_num', 'rating_den']].head(6)"
   ]
  },
  {
   "cell_type": "code",
   "execution_count": 59,
   "metadata": {},
   "outputs": [],
   "source": [
    "# Drop the columns from final dataframe\n",
    "cleaned_twitter_df.drop(['rating_numerator', 'rating_denominator', 'rating_num', 'rating_den'], axis=1, inplace=True)"
   ]
  },
  {
   "cell_type": "code",
   "execution_count": 60,
   "metadata": {},
   "outputs": [
    {
     "name": "stdout",
     "output_type": "stream",
     "text": [
      "<class 'pandas.core.frame.DataFrame'>\n",
      "Int64Index: 2355 entries, 0 to 2355\n",
      "Data columns (total 16 columns):\n",
      "tweet_id                      2355 non-null int64\n",
      "in_reply_to_status_id         77 non-null float64\n",
      "in_reply_to_user_id           77 non-null float64\n",
      "timestamp                     2355 non-null object\n",
      "source                        2355 non-null object\n",
      "text                          2355 non-null object\n",
      "retweeted_status_id           181 non-null float64\n",
      "retweeted_status_user_id      181 non-null float64\n",
      "retweeted_status_timestamp    181 non-null object\n",
      "expanded_urls                 2297 non-null object\n",
      "name                          2355 non-null object\n",
      "doggo                         2355 non-null object\n",
      "floofer                       2355 non-null object\n",
      "pupper                        2355 non-null object\n",
      "puppo                         2355 non-null object\n",
      "rating                        2355 non-null float64\n",
      "dtypes: float64(5), int64(1), object(10)\n",
      "memory usage: 312.8+ KB\n"
     ]
    }
   ],
   "source": [
    "# Confirm that there is only one rating column\n",
    "cleaned_twitter_df.info()"
   ]
  },
  {
   "cell_type": "markdown",
   "metadata": {},
   "source": [
    "### Issue\n",
    "\n",
    "<b>`source` can't used for data analysis purpose as it contains html text with \"a href\" string</b>\n",
    "\n",
    "### Action|\n",
    "\n",
    "Drop this column from `cleaned_twitter_df`. This data element has already been added to `tweet_data_df` dataframe."
   ]
  },
  {
   "cell_type": "markdown",
   "metadata": {},
   "source": [
    "### Code"
   ]
  },
  {
   "cell_type": "code",
   "execution_count": 61,
   "metadata": {},
   "outputs": [],
   "source": [
    "cleaned_twitter_df.drop(['source'], axis=1, inplace=True)"
   ]
  },
  {
   "cell_type": "markdown",
   "metadata": {},
   "source": [
    "### Test"
   ]
  },
  {
   "cell_type": "code",
   "execution_count": 62,
   "metadata": {},
   "outputs": [
    {
     "data": {
      "text/plain": [
       "iphone       2206\n",
       "scene          91\n",
       "client         33\n",
       "tweetdeck      10\n",
       "Name: source, dtype: int64"
      ]
     },
     "execution_count": 62,
     "metadata": {},
     "output_type": "execute_result"
    }
   ],
   "source": [
    "# Examine source field in tweet_data_df. These values appear to be clean.\n",
    "tweet_data_df.source.value_counts()"
   ]
  },
  {
   "cell_type": "code",
   "execution_count": 63,
   "metadata": {},
   "outputs": [
    {
     "name": "stdout",
     "output_type": "stream",
     "text": [
      "<class 'pandas.core.frame.DataFrame'>\n",
      "Int64Index: 2355 entries, 0 to 2355\n",
      "Data columns (total 15 columns):\n",
      "tweet_id                      2355 non-null int64\n",
      "in_reply_to_status_id         77 non-null float64\n",
      "in_reply_to_user_id           77 non-null float64\n",
      "timestamp                     2355 non-null object\n",
      "text                          2355 non-null object\n",
      "retweeted_status_id           181 non-null float64\n",
      "retweeted_status_user_id      181 non-null float64\n",
      "retweeted_status_timestamp    181 non-null object\n",
      "expanded_urls                 2297 non-null object\n",
      "name                          2355 non-null object\n",
      "doggo                         2355 non-null object\n",
      "floofer                       2355 non-null object\n",
      "pupper                        2355 non-null object\n",
      "puppo                         2355 non-null object\n",
      "rating                        2355 non-null float64\n",
      "dtypes: float64(5), int64(1), object(9)\n",
      "memory usage: 294.4+ KB\n"
     ]
    }
   ],
   "source": [
    "cleaned_twitter_df.info()"
   ]
  },
  {
   "cell_type": "markdown",
   "metadata": {},
   "source": [
    "### Issue\n",
    "<b>`timestamp` field is `string` data type</b>\n",
    "\n",
    "### Action\n",
    "Change data type to datetime\n"
   ]
  },
  {
   "cell_type": "markdown",
   "metadata": {},
   "source": [
    "### Code"
   ]
  },
  {
   "cell_type": "code",
   "execution_count": 64,
   "metadata": {},
   "outputs": [],
   "source": [
    "cleaned_twitter_df['timestamp'] = pd.to_datetime(cleaned_twitter_df.timestamp, format='%Y-%m-%d %H:%M:%S')"
   ]
  },
  {
   "cell_type": "markdown",
   "metadata": {},
   "source": [
    "### Test"
   ]
  },
  {
   "cell_type": "code",
   "execution_count": 65,
   "metadata": {},
   "outputs": [
    {
     "name": "stdout",
     "output_type": "stream",
     "text": [
      "<class 'pandas.core.frame.DataFrame'>\n",
      "Int64Index: 2355 entries, 0 to 2355\n",
      "Data columns (total 15 columns):\n",
      "tweet_id                      2355 non-null int64\n",
      "in_reply_to_status_id         77 non-null float64\n",
      "in_reply_to_user_id           77 non-null float64\n",
      "timestamp                     2355 non-null datetime64[ns]\n",
      "text                          2355 non-null object\n",
      "retweeted_status_id           181 non-null float64\n",
      "retweeted_status_user_id      181 non-null float64\n",
      "retweeted_status_timestamp    181 non-null object\n",
      "expanded_urls                 2297 non-null object\n",
      "name                          2355 non-null object\n",
      "doggo                         2355 non-null object\n",
      "floofer                       2355 non-null object\n",
      "pupper                        2355 non-null object\n",
      "puppo                         2355 non-null object\n",
      "rating                        2355 non-null float64\n",
      "dtypes: datetime64[ns](1), float64(5), int64(1), object(8)\n",
      "memory usage: 294.4+ KB\n"
     ]
    }
   ],
   "source": [
    "cleaned_twitter_df.info()"
   ]
  },
  {
   "cell_type": "markdown",
   "metadata": {},
   "source": [
    "### Issue\n",
    "<b>4 columns represent `dog_stage` in `twitter_enhanced_df`</b>\n",
    "\n",
    "### Action\n",
    "Combine the categorical variable into a single column and name the column as `dog_stage`"
   ]
  },
  {
   "cell_type": "markdown",
   "metadata": {},
   "source": [
    "### Code"
   ]
  },
  {
   "cell_type": "code",
   "execution_count": 66,
   "metadata": {},
   "outputs": [],
   "source": [
    "'''\n",
    "Combines 4 dog_stage columns into one.\n",
    "If a dog is having more than one dog_stage only the first one is picked up\n",
    "'''\n",
    "def combine_dog_stages(row):\n",
    "    if row['doggo'] != 'None': return row['doggo']\n",
    "    elif row['floofer'] != 'None': return row['floofer']\n",
    "    elif row['pupper'] != 'None': return row['pupper']\n",
    "    elif row['puppo'] != 'None': return row['puppo']\n",
    "    else: return None\n",
    "    \n",
    "cleaned_twitter_df['dog_stage'] = \\\n",
    "cleaned_twitter_df.apply(combine_dog_stages, axis=1)\n",
    "cleaned_twitter_df.drop(['doggo', 'floofer', 'pupper', 'puppo'], axis=1, inplace=True)"
   ]
  },
  {
   "cell_type": "markdown",
   "metadata": {},
   "source": [
    "### Test"
   ]
  },
  {
   "cell_type": "code",
   "execution_count": 67,
   "metadata": {},
   "outputs": [
    {
     "name": "stdout",
     "output_type": "stream",
     "text": [
      "<class 'pandas.core.frame.DataFrame'>\n",
      "Int64Index: 2355 entries, 0 to 2355\n",
      "Data columns (total 12 columns):\n",
      "tweet_id                      2355 non-null int64\n",
      "in_reply_to_status_id         77 non-null float64\n",
      "in_reply_to_user_id           77 non-null float64\n",
      "timestamp                     2355 non-null datetime64[ns]\n",
      "text                          2355 non-null object\n",
      "retweeted_status_id           181 non-null float64\n",
      "retweeted_status_user_id      181 non-null float64\n",
      "retweeted_status_timestamp    181 non-null object\n",
      "expanded_urls                 2297 non-null object\n",
      "name                          2355 non-null object\n",
      "rating                        2355 non-null float64\n",
      "dog_stage                     380 non-null object\n",
      "dtypes: datetime64[ns](1), float64(5), int64(1), object(5)\n",
      "memory usage: 239.2+ KB\n"
     ]
    }
   ],
   "source": [
    "cleaned_twitter_df.info()"
   ]
  },
  {
   "cell_type": "markdown",
   "metadata": {},
   "source": [
    "### Issue\n",
    "<b>`cleaned_twitter_df` contains retweet data</b>\n",
    "\n",
    "### Action\n",
    "Remove retweet data"
   ]
  },
  {
   "cell_type": "markdown",
   "metadata": {},
   "source": [
    "### Code"
   ]
  },
  {
   "cell_type": "code",
   "execution_count": 68,
   "metadata": {},
   "outputs": [],
   "source": [
    "cleaned_twitter_df = cleaned_twitter_df[cleaned_twitter_df.retweeted_status_id.isnull()]"
   ]
  },
  {
   "cell_type": "markdown",
   "metadata": {},
   "source": [
    "### Test"
   ]
  },
  {
   "cell_type": "code",
   "execution_count": 69,
   "metadata": {},
   "outputs": [
    {
     "name": "stdout",
     "output_type": "stream",
     "text": [
      "Number of retweet entries = 0\n"
     ]
    }
   ],
   "source": [
    "print(\"Number of retweet entries = %d\" % len(cleaned_twitter_df[cleaned_twitter_df.retweeted_status_id > 0].index))"
   ]
  },
  {
   "cell_type": "markdown",
   "metadata": {},
   "source": [
    "### Issue\n",
    "<b>`cleaned_twitter_df` contains tweet replies</b>\n",
    "\n",
    "### Action\n",
    "Remove reply tweets"
   ]
  },
  {
   "cell_type": "markdown",
   "metadata": {},
   "source": [
    "### Code"
   ]
  },
  {
   "cell_type": "code",
   "execution_count": 70,
   "metadata": {},
   "outputs": [
    {
     "name": "stdout",
     "output_type": "stream",
     "text": [
      "Number of replies before deletion of replies = 77\n"
     ]
    }
   ],
   "source": [
    "print(\"Number of replies before deletion of replies = %d\" % len(cleaned_twitter_df[cleaned_twitter_df.in_reply_to_status_id > 0].index))\n",
    "\n",
    "cleaned_twitter_df = cleaned_twitter_df[cleaned_twitter_df.in_reply_to_status_id.isnull()]"
   ]
  },
  {
   "cell_type": "markdown",
   "metadata": {},
   "source": [
    "### Test"
   ]
  },
  {
   "cell_type": "code",
   "execution_count": 71,
   "metadata": {},
   "outputs": [
    {
     "name": "stdout",
     "output_type": "stream",
     "text": [
      "Number of replies after deletion of replies = 0\n"
     ]
    }
   ],
   "source": [
    "print(\"Number of replies after deletion of replies = %d\" % len(cleaned_twitter_df[cleaned_twitter_df.in_reply_to_status_id > 0].index))\n"
   ]
  },
  {
   "cell_type": "markdown",
   "metadata": {},
   "source": [
    "### Issue\n",
    "<b>Prediction dataframe contains pictures of objects other than dogs</b>\n",
    "\n",
    "I perform another round of quick visual assessment by opening up the picture links in browser. For example - https://twitter.com/dog_rates/status/671511350426865664/photo/1 This is not the picture of a dog. These tweets need to be removed.\n",
    "\n",
    "### Action\n",
    "Remove those entries from prediction dataframe"
   ]
  },
  {
   "cell_type": "markdown",
   "metadata": {},
   "source": [
    "### Code"
   ]
  },
  {
   "cell_type": "code",
   "execution_count": 72,
   "metadata": {},
   "outputs": [
    {
     "name": "stdout",
     "output_type": "stream",
     "text": [
      "Number of records in prediction dataframe = 2075\n"
     ]
    }
   ],
   "source": [
    "cleaned_prediction_df = prediction_df.copy()\n",
    "print(\"Number of records in prediction dataframe = %d\" % len(cleaned_prediction_df.index))"
   ]
  },
  {
   "cell_type": "code",
   "execution_count": 73,
   "metadata": {},
   "outputs": [],
   "source": [
    "cleaned_prediction_df = cleaned_prediction_df.query(\"p1_dog == True or p2_dog == True or p3_dog == True\")"
   ]
  },
  {
   "cell_type": "markdown",
   "metadata": {},
   "source": [
    "### Test"
   ]
  },
  {
   "cell_type": "code",
   "execution_count": 74,
   "metadata": {},
   "outputs": [
    {
     "data": {
      "text/plain": [
       "0"
      ]
     },
     "execution_count": 74,
     "metadata": {},
     "output_type": "execute_result"
    }
   ],
   "source": [
    "# No entry found which doesn;t have at least dog image\n",
    "len(cleaned_prediction_df.query(\"p1_dog == False and p2_dog == False and p3_dog == False\").index)\n"
   ]
  },
  {
   "cell_type": "markdown",
   "metadata": {},
   "source": [
    "### Issue\n",
    "There are 3 predictions for every dog image\n",
    "\n",
    "### Action\n",
    "Combine them into a single column"
   ]
  },
  {
   "cell_type": "markdown",
   "metadata": {},
   "source": [
    "### Code"
   ]
  },
  {
   "cell_type": "code",
   "execution_count": 75,
   "metadata": {},
   "outputs": [],
   "source": [
    "\n",
    "def combine_prediction(row):\n",
    "    if row['p1_dog'] == True:\n",
    "        return row.p1\n",
    "    elif row['p2_dog'] == True:\n",
    "        return row.p2\n",
    "    else:\n",
    "        return row.p3\n",
    "    \n"
   ]
  },
  {
   "cell_type": "code",
   "execution_count": 76,
   "metadata": {},
   "outputs": [],
   "source": [
    "cleaned_prediction_df['dog'] = cleaned_prediction_df.apply(lambda row: combine_prediction(row), axis=1)"
   ]
  },
  {
   "cell_type": "markdown",
   "metadata": {},
   "source": [
    "### Test"
   ]
  },
  {
   "cell_type": "code",
   "execution_count": 77,
   "metadata": {},
   "outputs": [
    {
     "name": "stdout",
     "output_type": "stream",
     "text": [
      "<class 'pandas.core.frame.DataFrame'>\n",
      "Int64Index: 1751 entries, 0 to 2073\n",
      "Data columns (total 13 columns):\n",
      "tweet_id    1751 non-null int64\n",
      "jpg_url     1751 non-null object\n",
      "img_num     1751 non-null int64\n",
      "p1          1751 non-null object\n",
      "p1_conf     1751 non-null float64\n",
      "p1_dog      1751 non-null bool\n",
      "p2          1751 non-null object\n",
      "p2_conf     1751 non-null float64\n",
      "p2_dog      1751 non-null bool\n",
      "p3          1751 non-null object\n",
      "p3_conf     1751 non-null float64\n",
      "p3_dog      1751 non-null bool\n",
      "dog         1751 non-null object\n",
      "dtypes: bool(3), float64(3), int64(2), object(5)\n",
      "memory usage: 155.6+ KB\n"
     ]
    }
   ],
   "source": [
    "# Confirm new column `dog` exists\n",
    "cleaned_prediction_df.info()"
   ]
  },
  {
   "cell_type": "code",
   "execution_count": 78,
   "metadata": {},
   "outputs": [
    {
     "data": {
      "text/html": [
       "<div>\n",
       "<style scoped>\n",
       "    .dataframe tbody tr th:only-of-type {\n",
       "        vertical-align: middle;\n",
       "    }\n",
       "\n",
       "    .dataframe tbody tr th {\n",
       "        vertical-align: top;\n",
       "    }\n",
       "\n",
       "    .dataframe thead th {\n",
       "        text-align: right;\n",
       "    }\n",
       "</style>\n",
       "<table border=\"1\" class=\"dataframe\">\n",
       "  <thead>\n",
       "    <tr style=\"text-align: right;\">\n",
       "      <th></th>\n",
       "      <th>tweet_id</th>\n",
       "      <th>jpg_url</th>\n",
       "      <th>img_num</th>\n",
       "      <th>p1</th>\n",
       "      <th>p1_conf</th>\n",
       "      <th>p1_dog</th>\n",
       "      <th>p2</th>\n",
       "      <th>p2_conf</th>\n",
       "      <th>p2_dog</th>\n",
       "      <th>p3</th>\n",
       "      <th>p3_conf</th>\n",
       "      <th>p3_dog</th>\n",
       "      <th>dog</th>\n",
       "    </tr>\n",
       "  </thead>\n",
       "  <tbody>\n",
       "  </tbody>\n",
       "</table>\n",
       "</div>"
      ],
      "text/plain": [
       "Empty DataFrame\n",
       "Columns: [tweet_id, jpg_url, img_num, p1, p1_conf, p1_dog, p2, p2_conf, p2_dog, p3, p3_conf, p3_dog, dog]\n",
       "Index: []"
      ]
     },
     "execution_count": 78,
     "metadata": {},
     "output_type": "execute_result"
    }
   ],
   "source": [
    "# Value in `dog` column must match one of p1_dog, p2_dog or p3_dog\n",
    "cleaned_prediction_df.query(\"dog != p1 and dog != p2 and dog != p3\")"
   ]
  },
  {
   "cell_type": "code",
   "execution_count": 79,
   "metadata": {},
   "outputs": [],
   "source": [
    "# Drop columns which will not be used for analysis\n",
    "cleaned_prediction_df.drop(['p1', 'p1_conf', 'p1_dog', 'p2', 'p2_conf', 'p2_dog', 'p3', 'p3_conf', 'p3_dog'], axis=1, inplace=True)\n"
   ]
  },
  {
   "cell_type": "markdown",
   "metadata": {},
   "source": [
    "### Issue\n",
    "<b>There are tweets without dog picture</b>\n",
    "\n",
    "### Action\n",
    "Remove those tweets"
   ]
  },
  {
   "cell_type": "code",
   "execution_count": 80,
   "metadata": {},
   "outputs": [
    {
     "name": "stdout",
     "output_type": "stream",
     "text": [
      "Number of tweets having dog image = 1666\n"
     ]
    }
   ],
   "source": [
    "# Find out the tweets which are without pictures\n",
    "combined_df = cleaned_twitter_df.merge(cleaned_prediction_df, how='left', indicator=True, on='tweet_id').reset_index()\n",
    "combined_df = combined_df[combined_df['_merge'] == 'both']\n",
    "print(\"Number of tweets having dog image = %d\" % len(combined_df))"
   ]
  },
  {
   "cell_type": "code",
   "execution_count": 81,
   "metadata": {},
   "outputs": [],
   "source": [
    "#Remove the tweets which don't have matching picture\n",
    "cleaned_twitter_df = cleaned_twitter_df[cleaned_twitter_df.tweet_id.isin(combined_df.tweet_id)]\n"
   ]
  },
  {
   "cell_type": "markdown",
   "metadata": {},
   "source": [
    "### Test"
   ]
  },
  {
   "cell_type": "code",
   "execution_count": 82,
   "metadata": {},
   "outputs": [
    {
     "data": {
      "text/html": [
       "<div>\n",
       "<style scoped>\n",
       "    .dataframe tbody tr th:only-of-type {\n",
       "        vertical-align: middle;\n",
       "    }\n",
       "\n",
       "    .dataframe tbody tr th {\n",
       "        vertical-align: top;\n",
       "    }\n",
       "\n",
       "    .dataframe thead th {\n",
       "        text-align: right;\n",
       "    }\n",
       "</style>\n",
       "<table border=\"1\" class=\"dataframe\">\n",
       "  <thead>\n",
       "    <tr style=\"text-align: right;\">\n",
       "      <th></th>\n",
       "      <th>index</th>\n",
       "      <th>tweet_id</th>\n",
       "      <th>in_reply_to_status_id</th>\n",
       "      <th>in_reply_to_user_id</th>\n",
       "      <th>timestamp</th>\n",
       "      <th>text</th>\n",
       "      <th>retweeted_status_id</th>\n",
       "      <th>retweeted_status_user_id</th>\n",
       "      <th>retweeted_status_timestamp</th>\n",
       "      <th>expanded_urls</th>\n",
       "      <th>name</th>\n",
       "      <th>rating</th>\n",
       "      <th>dog_stage</th>\n",
       "      <th>jpg_url</th>\n",
       "      <th>img_num</th>\n",
       "      <th>dog</th>\n",
       "      <th>_merge</th>\n",
       "    </tr>\n",
       "  </thead>\n",
       "  <tbody>\n",
       "  </tbody>\n",
       "</table>\n",
       "</div>"
      ],
      "text/plain": [
       "Empty DataFrame\n",
       "Columns: [index, tweet_id, in_reply_to_status_id, in_reply_to_user_id, timestamp, text, retweeted_status_id, retweeted_status_user_id, retweeted_status_timestamp, expanded_urls, name, rating, dog_stage, jpg_url, img_num, dog, _merge]\n",
       "Index: []"
      ]
     },
     "execution_count": 82,
     "metadata": {},
     "output_type": "execute_result"
    }
   ],
   "source": [
    "# Left outer join with cleaned tweets with prediction data\n",
    "test_df = cleaned_twitter_df.merge(cleaned_prediction_df, how='left', indicator=True, on='tweet_id').reset_index()\n",
    "# Check for data coming tweet file but not from prediction. These will be tweets without images\n",
    "# No such rows found\n",
    "test_df[test_df['_merge'] == 'left_only']\n"
   ]
  },
  {
   "cell_type": "markdown",
   "metadata": {},
   "source": [
    "### Issue\n",
    "<b>There needs to be one final cleaned dataset for ease of analysis instead of 3 dataframes</b>\n",
    "\n",
    "### Action\n",
    "Join `combined_df` with `tweet_data_df`"
   ]
  },
  {
   "cell_type": "markdown",
   "metadata": {},
   "source": [
    "### Code\n"
   ]
  },
  {
   "cell_type": "code",
   "execution_count": 83,
   "metadata": {},
   "outputs": [],
   "source": [
    "twitter_master_df = \\\n",
    "combined_df[['tweet_id', 'timestamp', 'rating', 'dog_stage', 'dog', 'text']]\\\n",
    ".merge(tweet_data_df, on='tweet_id')\\\n",
    ".reset_index()"
   ]
  },
  {
   "cell_type": "markdown",
   "metadata": {},
   "source": [
    "## More wrangling before storing data"
   ]
  },
  {
   "cell_type": "markdown",
   "metadata": {},
   "source": [
    "Reading through the tweets, I find most of the tweets references dog's gender in subtle fashion. It can be derived parsing the tweet `text` and looking for pronouns like `He` or `She`. The gender of the dog can give us valuable insights like \n",
    "* Which gender gets more `likes`\n",
    "* Which gender gets more `retweet`\n"
   ]
  },
  {
   "cell_type": "code",
   "execution_count": 84,
   "metadata": {},
   "outputs": [],
   "source": [
    "'''\n",
    "Gender classification of dog based on the usage of pronoun in tweet text\n",
    "'''\n",
    "def get_gender(str):\n",
    "    cleaned_str = re.sub(r'http:.*$','', str)\n",
    "    if re.search(r'\\.{0,1}\\s*He\\s*|\\s+[H|h]is\\s+', cleaned_str):\n",
    "        return 'Male'\n",
    "    elif re.search(r'\\.{0,1}\\s*She\\s*|\\s+[H|h]er\\s+', cleaned_str):\n",
    "        return 'Female'\n",
    "    else:\n",
    "        return 'Unknown'\n",
    "\n",
    "# Add gender to dataframe\n",
    "twitter_master_df['gender'] = twitter_master_df.text.apply(lambda x: get_gender(x))"
   ]
  },
  {
   "cell_type": "code",
   "execution_count": 85,
   "metadata": {},
   "outputs": [],
   "source": [
    "# Change all dog breeds to lower case\n",
    "twitter_master_df = twitter_master_df.assign(dog_breed = lambda x: x.dog.str.lower())"
   ]
  },
  {
   "cell_type": "code",
   "execution_count": 86,
   "metadata": {},
   "outputs": [],
   "source": [
    "twitter_master_df.drop(['text', 'dog'], axis=1, inplace=True)"
   ]
  },
  {
   "cell_type": "markdown",
   "metadata": {},
   "source": [
    "## Store"
   ]
  },
  {
   "cell_type": "code",
   "execution_count": 87,
   "metadata": {},
   "outputs": [],
   "source": [
    "# Save the final dataframe as csv\n",
    "twitter_master_df.to_csv('data/twitter_archive_master.csv', index=False)"
   ]
  },
  {
   "cell_type": "markdown",
   "metadata": {},
   "source": [
    "## Analyze"
   ]
  },
  {
   "cell_type": "markdown",
   "metadata": {},
   "source": [
    "I start by comparing likes by gender to see if this data tells me any story whether male or female dogs got higher likes."
   ]
  },
  {
   "cell_type": "code",
   "execution_count": 88,
   "metadata": {},
   "outputs": [
    {
     "data": {
      "text/html": [
       "<div>\n",
       "<style scoped>\n",
       "    .dataframe tbody tr th:only-of-type {\n",
       "        vertical-align: middle;\n",
       "    }\n",
       "\n",
       "    .dataframe tbody tr th {\n",
       "        vertical-align: top;\n",
       "    }\n",
       "\n",
       "    .dataframe thead th {\n",
       "        text-align: right;\n",
       "    }\n",
       "</style>\n",
       "<table border=\"1\" class=\"dataframe\">\n",
       "  <thead>\n",
       "    <tr style=\"text-align: right;\">\n",
       "      <th></th>\n",
       "      <th>gender</th>\n",
       "      <th>favorite_count</th>\n",
       "      <th>dog_count</th>\n",
       "    </tr>\n",
       "  </thead>\n",
       "  <tbody>\n",
       "    <tr>\n",
       "      <th>0</th>\n",
       "      <td>Female</td>\n",
       "      <td>2946952</td>\n",
       "      <td>275</td>\n",
       "    </tr>\n",
       "    <tr>\n",
       "      <th>1</th>\n",
       "      <td>Male</td>\n",
       "      <td>8761330</td>\n",
       "      <td>930</td>\n",
       "    </tr>\n",
       "    <tr>\n",
       "      <th>2</th>\n",
       "      <td>Unknown</td>\n",
       "      <td>3392715</td>\n",
       "      <td>459</td>\n",
       "    </tr>\n",
       "  </tbody>\n",
       "</table>\n",
       "</div>"
      ],
      "text/plain": [
       "    gender  favorite_count  dog_count\n",
       "0   Female         2946952        275\n",
       "1     Male         8761330        930\n",
       "2  Unknown         3392715        459"
      ]
     },
     "execution_count": 88,
     "metadata": {},
     "output_type": "execute_result"
    }
   ],
   "source": [
    "twitter_master_df[['favorite_count', 'tweet_id', 'gender']]\\\n",
    ".groupby('gender')\\\n",
    ".agg({'favorite_count' : 'sum', 'tweet_id': 'count'})\\\n",
    ".reset_index()\\\n",
    ".rename(columns={'tweet_id': 'dog_count'})"
   ]
  },
  {
   "cell_type": "markdown",
   "metadata": {},
   "source": [
    "The above snippet shows number of male dogs in this dataset is significantly higher than female dogs. So comparing total value of `likes` will be misleading. Instead of `sum`, I decided to use `median` value."
   ]
  },
  {
   "cell_type": "code",
   "execution_count": 89,
   "metadata": {},
   "outputs": [
    {
     "data": {
      "text/html": [
       "<div>\n",
       "<style scoped>\n",
       "    .dataframe tbody tr th:only-of-type {\n",
       "        vertical-align: middle;\n",
       "    }\n",
       "\n",
       "    .dataframe tbody tr th {\n",
       "        vertical-align: top;\n",
       "    }\n",
       "\n",
       "    .dataframe thead th {\n",
       "        text-align: right;\n",
       "    }\n",
       "</style>\n",
       "<table border=\"1\" class=\"dataframe\">\n",
       "  <thead>\n",
       "    <tr style=\"text-align: right;\">\n",
       "      <th></th>\n",
       "      <th>gender</th>\n",
       "      <th>favorite_count</th>\n",
       "      <th>dog_count</th>\n",
       "    </tr>\n",
       "  </thead>\n",
       "  <tbody>\n",
       "    <tr>\n",
       "      <th>0</th>\n",
       "      <td>Female</td>\n",
       "      <td>5727.0</td>\n",
       "      <td>275</td>\n",
       "    </tr>\n",
       "    <tr>\n",
       "      <th>1</th>\n",
       "      <td>Male</td>\n",
       "      <td>4653.5</td>\n",
       "      <td>930</td>\n",
       "    </tr>\n",
       "    <tr>\n",
       "      <th>2</th>\n",
       "      <td>Unknown</td>\n",
       "      <td>3234.0</td>\n",
       "      <td>459</td>\n",
       "    </tr>\n",
       "  </tbody>\n",
       "</table>\n",
       "</div>"
      ],
      "text/plain": [
       "    gender  favorite_count  dog_count\n",
       "0   Female          5727.0        275\n",
       "1     Male          4653.5        930\n",
       "2  Unknown          3234.0        459"
      ]
     },
     "execution_count": 89,
     "metadata": {},
     "output_type": "execute_result"
    }
   ],
   "source": [
    "twitter_master_df[['favorite_count', 'tweet_id', 'gender']]\\\n",
    ".groupby('gender')\\\n",
    ".agg({'favorite_count' : 'median', 'tweet_id': 'count'})\\\n",
    ".reset_index()\\\n",
    ".rename(columns={'tweet_id': 'dog_count'})"
   ]
  },
  {
   "cell_type": "code",
   "execution_count": 90,
   "metadata": {},
   "outputs": [
    {
     "data": {
      "image/png": "[encoded data removed]",
      "text/plain": [
       "<Figure size 1080x720 with 1 Axes>"
      ]
     },
     "metadata": {
      "needs_background": "light"
     },
     "output_type": "display_data"
    }
   ],
   "source": [
    "# Analysis of number of likes by gender\n",
    "ax = twitter_master_df[['favorite_count', 'gender']]\\\n",
    ".groupby('gender')\\\n",
    ".agg({'favorite_count' : 'median'})\\\n",
    ".reset_index()\\\n",
    ".set_index('gender')\\\n",
    ".plot\\\n",
    ".bar(figsize=(15,10),legend=True,fontsize=12, title='Likes by gender');\n",
    "\n",
    "ax.set_ylabel(\"Like count\", fontsize=12)\n",
    "ax.set_xlabel(\"Gender\", fontsize=12);\n"
   ]
  },
  {
   "cell_type": "markdown",
   "metadata": {},
   "source": [
    "The bar graph indicates that \"like\" count is higher for female dogs rather than male dogs. Gender of dog is a derived field based on the use of pronoun in tweet text. \n"
   ]
  },
  {
   "cell_type": "markdown",
   "metadata": {},
   "source": [
    "Continuing the same analysis, I add another metric - `retweet count`. This is a metric indicating how many times the tweet has been retweeted and is a metric that can be used as a measure of popularity of the image."
   ]
  },
  {
   "cell_type": "code",
   "execution_count": 91,
   "metadata": {},
   "outputs": [
    {
     "data": {
      "image/png": "[encoded data removed]",
      "text/plain": [
       "<Figure size 1080x720 with 1 Axes>"
      ]
     },
     "metadata": {
      "needs_background": "light"
     },
     "output_type": "display_data"
    }
   ],
   "source": [
    "# Analysis of number of likes & retweets by gender\n",
    "ax = twitter_master_df[['favorite_count', 'retweet_count', 'gender']]\\\n",
    ".groupby('gender')\\\n",
    ".agg({'favorite_count' : 'median', 'retweet_count': 'median'})\\\n",
    ".reset_index()\\\n",
    ".set_index('gender')\\\n",
    ".plot\\\n",
    ".bar(figsize=(15,10),legend=True,fontsize=12, title='Median value of likes & retweets by gender');\n",
    "\n",
    "ax.set_ylabel(\"Median of like & retweet count\", fontsize=12)\n",
    "ax.set_xlabel(\"Gender\", fontsize=12);"
   ]
  },
  {
   "cell_type": "markdown",
   "metadata": {},
   "source": [
    "Here again I observe that number of retweets for female dogs is higher than male dogs."
   ]
  },
  {
   "cell_type": "code",
   "execution_count": 92,
   "metadata": {},
   "outputs": [
    {
     "data": {
      "image/png": "[encoded data removed]",
      "text/plain": [
       "<Figure size 1080x720 with 1 Axes>"
      ]
     },
     "metadata": {
      "needs_background": "light"
     },
     "output_type": "display_data"
    }
   ],
   "source": [
    "# Analysis of ratings by gender\n",
    "twitter_master_df[['rating', 'gender']]\\\n",
    ".groupby('gender')\\\n",
    ".agg({'rating' : 'median'})\\\n",
    ".reset_index()\\\n",
    ".set_index('gender')\\\n",
    ".plot\\\n",
    ".bar(figsize=(15,10),legend=True,fontsize=12, title='Median value of dog rating by gender');\n",
    "\n",
    "ax.set_ylabel(\"Median dog rating\", fontsize=12)\n",
    "ax.set_xlabel(\"Gender\", fontsize=12);"
   ]
  },
  {
   "cell_type": "markdown",
   "metadata": {},
   "source": [
    "In the above plot, the median value of rating for female dog slightly higher than male dog."
   ]
  },
  {
   "cell_type": "markdown",
   "metadata": {},
   "source": [
    "`retweet_count` indicates number of retweets of the given tweet\n",
    "`favorite_count` indicates number of likes of the tweet\n",
    "\n",
    "I wanted to explore if data shows any corelation between these metrics as well as `ratings` of dog. I used `seaborn` pairplot for visualization. Followed by that I used Pandas to compute correlation using Pearson method. `retweet_count` and `faviorite_count` has strong correlation with `r = 0.93`"
   ]
  },
  {
   "cell_type": "code",
   "execution_count": 93,
   "metadata": {},
   "outputs": [
    {
     "data": {
      "image/png": "[encoded data removed]",
      "text/plain": [
       "<Figure size 540x540 with 12 Axes>"
      ]
     },
     "metadata": {
      "needs_background": "light"
     },
     "output_type": "display_data"
    }
   ],
   "source": [
    "metric_df = twitter_master_df[['rating', 'favorite_count', 'retweet_count']]\n",
    "import seaborn as sns\n",
    "sns.pairplot(metric_df);"
   ]
  },
  {
   "cell_type": "code",
   "execution_count": 94,
   "metadata": {},
   "outputs": [
    {
     "data": {
      "text/html": [
       "<div>\n",
       "<style scoped>\n",
       "    .dataframe tbody tr th:only-of-type {\n",
       "        vertical-align: middle;\n",
       "    }\n",
       "\n",
       "    .dataframe tbody tr th {\n",
       "        vertical-align: top;\n",
       "    }\n",
       "\n",
       "    .dataframe thead th {\n",
       "        text-align: right;\n",
       "    }\n",
       "</style>\n",
       "<table border=\"1\" class=\"dataframe\">\n",
       "  <thead>\n",
       "    <tr style=\"text-align: right;\">\n",
       "      <th></th>\n",
       "      <th>favorite_count</th>\n",
       "      <th>retweet_count</th>\n",
       "    </tr>\n",
       "  </thead>\n",
       "  <tbody>\n",
       "    <tr>\n",
       "      <th>favorite_count</th>\n",
       "      <td>1.000000</td>\n",
       "      <td>0.931524</td>\n",
       "    </tr>\n",
       "    <tr>\n",
       "      <th>retweet_count</th>\n",
       "      <td>0.931524</td>\n",
       "      <td>1.000000</td>\n",
       "    </tr>\n",
       "  </tbody>\n",
       "</table>\n",
       "</div>"
      ],
      "text/plain": [
       "                favorite_count  retweet_count\n",
       "favorite_count        1.000000       0.931524\n",
       "retweet_count         0.931524       1.000000"
      ]
     },
     "execution_count": 94,
     "metadata": {},
     "output_type": "execute_result"
    }
   ],
   "source": [
    "twitter_master_df[['favorite_count', 'retweet_count']].corr(method='pearson')"
   ]
  },
  {
   "cell_type": "code",
   "execution_count": 95,
   "metadata": {},
   "outputs": [
    {
     "data": {
      "text/html": [
       "<div>\n",
       "<style scoped>\n",
       "    .dataframe tbody tr th:only-of-type {\n",
       "        vertical-align: middle;\n",
       "    }\n",
       "\n",
       "    .dataframe tbody tr th {\n",
       "        vertical-align: top;\n",
       "    }\n",
       "\n",
       "    .dataframe thead th {\n",
       "        text-align: right;\n",
       "    }\n",
       "</style>\n",
       "<table border=\"1\" class=\"dataframe\">\n",
       "  <thead>\n",
       "    <tr style=\"text-align: right;\">\n",
       "      <th></th>\n",
       "      <th>favorite_count</th>\n",
       "      <th>rating</th>\n",
       "    </tr>\n",
       "  </thead>\n",
       "  <tbody>\n",
       "    <tr>\n",
       "      <th>favorite_count</th>\n",
       "      <td>1.000000</td>\n",
       "      <td>0.382252</td>\n",
       "    </tr>\n",
       "    <tr>\n",
       "      <th>rating</th>\n",
       "      <td>0.382252</td>\n",
       "      <td>1.000000</td>\n",
       "    </tr>\n",
       "  </tbody>\n",
       "</table>\n",
       "</div>"
      ],
      "text/plain": [
       "                favorite_count    rating\n",
       "favorite_count        1.000000  0.382252\n",
       "rating                0.382252  1.000000"
      ]
     },
     "execution_count": 95,
     "metadata": {},
     "output_type": "execute_result"
    }
   ],
   "source": [
    "twitter_master_df[['favorite_count', 'rating']].corr(method='pearson')"
   ]
  },
  {
   "cell_type": "code",
   "execution_count": 96,
   "metadata": {},
   "outputs": [
    {
     "data": {
      "text/plain": [
       "count    1664.000000\n",
       "mean        1.082609\n",
       "std         0.188393\n",
       "min         0.000000\n",
       "25%         1.000000\n",
       "50%         1.100000\n",
       "75%         1.200000\n",
       "max         3.428571\n",
       "Name: rating, dtype: float64"
      ]
     },
     "execution_count": 96,
     "metadata": {},
     "output_type": "execute_result"
    }
   ],
   "source": [
    "twitter_master_df['rating'].describe()"
   ]
  },
  {
   "cell_type": "markdown",
   "metadata": {},
   "source": [
    "Median value of dog rating is 1.1. Dog rating is a continuous quantitative variable. I plan to analyze to see if this data set shows any relationship between rating & likes.\n",
    "\n",
    "To perform that analysis, I bucketize `rating` column. The new column is named `rating_bucket`."
   ]
  },
  {
   "cell_type": "code",
   "execution_count": 97,
   "metadata": {},
   "outputs": [],
   "source": [
    "# Keeping only two places after decimal for rating\n",
    "twitter_master_df['rating_bucket'] = twitter_master_df.rating.apply(lambda x: round(x, 2))"
   ]
  },
  {
   "cell_type": "markdown",
   "metadata": {},
   "source": [
    "The following snippet computes median value of `likes` for every `rating_bucket`. For `rating_bucket` having less than 10 dogs, I decide to exclude those buckets from analysis as they can bias the analysis."
   ]
  },
  {
   "cell_type": "code",
   "execution_count": 98,
   "metadata": {},
   "outputs": [
    {
     "data": {
      "image/png": "[encoded data removed]",
      "text/plain": [
       "<Figure size 1080x720 with 1 Axes>"
      ]
     },
     "metadata": {
      "needs_background": "light"
     },
     "output_type": "display_data"
    }
   ],
   "source": [
    "ax = twitter_master_df[['rating_bucket', 'tweet_id', 'favorite_count', 'retweet_count']]\\\n",
    ".groupby('rating_bucket')\\\n",
    ".agg({'tweet_id': 'count', 'favorite_count': 'median', 'retweet_count' : 'median'})\\\n",
    ".reset_index()\\\n",
    ".rename(columns={'tweet_id': 'dog_count', 'favorite_count': 'median_favorite_count', 'retweet_count' : 'median_retweet_count'})\\\n",
    ".query(\"dog_count >= 10\")[['rating_bucket', 'median_favorite_count', 'median_retweet_count']]\\\n",
    ".set_index('rating_bucket')\\\n",
    ".plot\\\n",
    ".line(figsize=(15,10),legend=True,fontsize=12, title='Median retweet & likes by dog rating bucket');\n",
    "\n",
    "ax.set_ylabel(\"Metrics: Median of Likes & Retweets\", fontsize=12)\n",
    "ax.set_xlabel(\"Dog rating bucket\", fontsize=12);\n",
    "ax.axvline(1.1, color='red', linestyle='--');\n"
   ]
  },
  {
   "cell_type": "markdown",
   "metadata": {},
   "source": [
    "Plot of median value of `likes` & `retweets` shows an upward trend of likes & retweet for dogs having more than median rating (1.1)"
   ]
  },
  {
   "cell_type": "markdown",
   "metadata": {},
   "source": [
    "Next step is to explore if median value of `likes` and `tweets` exhibit any temporal trend"
   ]
  },
  {
   "cell_type": "code",
   "execution_count": 99,
   "metadata": {},
   "outputs": [
    {
     "data": {
      "image/png": "[encoded data removed]",
      "text/plain": [
       "<Figure size 1080x720 with 1 Axes>"
      ]
     },
     "metadata": {
      "needs_background": "light"
     },
     "output_type": "display_data"
    }
   ],
   "source": [
    "twitter_master_df['tweet_yr_mon'] = twitter_master_df.timestamp.apply(lambda x: x.strftime('%Y-%m'))\n",
    "\n",
    "df = twitter_master_df[['tweet_yr_mon', 'tweet_id', 'favorite_count', 'retweet_count']]\\\n",
    ".groupby('tweet_yr_mon')\\\n",
    ".agg({'favorite_count': 'median', 'retweet_count' : 'median'})\\\n",
    ".reset_index()\\\n",
    ".rename(columns={'favorite_count': 'median_favorite_count', 'retweet_count' : 'median_retweet_count'})\\\n",
    ".set_index('tweet_yr_mon')\n",
    "\n",
    "ax = df.plot(figsize=(15,10),\n",
    "             legend=True,\n",
    "             fontsize=12, \n",
    "             rot=45,\n",
    "             title='Median retweet & likes by tweet timestamp(year-mon)');\n",
    "\n",
    "ax.set_ylabel(\"Metrics: Median of Likes & Retweets\", fontsize=12)\n",
    "ax.set_xlabel(\"Tweet timestamp (year-mon)\", fontsize=12);\n",
    "ax.set_xticks([i for i, x in enumerate(df.index)])\n",
    "ax.set_xticklabels(df.index);\n"
   ]
  },
  {
   "cell_type": "markdown",
   "metadata": {},
   "source": [
    "## References"
   ]
  },
  {
   "cell_type": "markdown",
   "metadata": {},
   "source": [
    "<ol>\n",
    "    <li><a href=\"https://developer.twitter.com/en/docs/tweets/data-dictionary/overview/tweet-object.html\">Twitter API documentation</a></li>\n",
    "    <li><a href=\"http://pandas.pydata.org/pandas-docs/stable/\">Panda documentation</a></li>\n",
    "    <li><a href=\"https://stackoverflow.com/questions/39714724/pandas-plot-x-axis-tick-frequency-how-can-i-show-more-ticks\">Stackoverflow discussion on x-labels and x-ticks</a></li>\n",
    "</ol>"
   ]
  }
 ],
 "metadata": {
  "kernelspec": {
   "display_name": "Python 3",
   "language": "python",
   "name": "python3"
  },
  "language_info": {
   "codemirror_mode": {
    "name": "ipython",
    "version": 3
   },
   "file_extension": ".py",
   "mimetype": "text/x-python",
   "name": "python",
   "nbconvert_exporter": "python",
   "pygments_lexer": "ipython3",
   "version": "3.7.1"
  }
 },
 "nbformat": 4,
 "nbformat_minor": 2
}
